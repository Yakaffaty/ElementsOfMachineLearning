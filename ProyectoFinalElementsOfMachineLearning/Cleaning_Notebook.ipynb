{
 "cells": [
  {
   "cell_type": "code",
   "execution_count": 1,
   "metadata": {},
   "outputs": [],
   "source": [
    "import pandas as pd\n",
    "from IPython.display import HTML\n",
    "import matplotlib\n",
    "import matplotlib.pyplot as plt\n",
    "import statsmodels.api as sm\n",
    "import seaborn as sns\n",
    "import statsmodels.formula.api as smf\n",
    "from sklearn.metrics import r2_score\n",
    "import patsy\n",
    "from patsy import dmatrix\n",
    "\n",
    "sns.set_style('darkgrid')\n",
    "\n",
    "# Use this in notebook to show plots\n",
    "%matplotlib inline\n",
    "\n",
    "import sklearn\n",
    "from sklearn.datasets import load_boston # No usaremos este, sino el Iris\n",
    "from sklearn.linear_model import LinearRegression\n",
    "from sklearn.model_selection import train_test_split\n",
    "from sklearn.metrics import mean_squared_error\n",
    "from sklearn.preprocessing import PolynomialFeatures\n",
    "from sklearn.pipeline import make_pipeline\n",
    "from sklearn.cluster import KMeans\n",
    "from sklearn.mixture import GaussianMixture\n",
    "from matplotlib.patches import Ellipse\n",
    "from sklearn.datasets import load_breast_cancer\n",
    "import seaborn as sns\n",
    "from sklearn.cluster import MeanShift, estimate_bandwidth\n",
    "from sklearn.mixture import GaussianMixture\n",
    "import matplotlib.pyplot as plt\n",
    "from matplotlib.patches import Ellipse\n",
    "import scipy\n",
    "from scipy.cluster.hierarchy import dendrogram, linkage\n",
    "from sklearn.preprocessing import StandardScaler\n",
    "from sklearn.discriminant_analysis import LinearDiscriminantAnalysis as LDA\n",
    "import matplotlib.pyplot as plt\n",
    "from sklearn.decomposition import PCA\n",
    "\n",
    "\n",
    "import os\n",
    "from sklearn.tree import export_graphviz\n",
    "import six\n",
    "\n",
    "import pandas as pd\n",
    "import numpy as np\n",
    "import seaborn as sns\n",
    "from scipy import stats\n",
    "import numpy as np\n",
    "import pandas as pd\n"
   ]
  },
  {
   "cell_type": "code",
   "execution_count": 2,
   "metadata": {},
   "outputs": [
    {
     "data": {
      "text/html": [
       "<script>\n",
       "code_show=true; \n",
       "function code_toggle() {\n",
       " if (code_show){\n",
       " $('div.input').hide();\n",
       " } else {\n",
       " $('div.input').show();\n",
       " }\n",
       " code_show = !code_show\n",
       "} \n",
       "$( document ).ready(code_toggle);\n",
       "</script>\n",
       "The raw code for this IPython notebook is by default hidden for easier reading.\n",
       "To toggle on/off the raw code, click <a href=\"javascript:code_toggle()\">here</a>."
      ],
      "text/plain": [
       "<IPython.core.display.HTML object>"
      ]
     },
     "execution_count": 2,
     "metadata": {},
     "output_type": "execute_result"
    }
   ],
   "source": [
    "HTML('''<script>\n",
    "code_show=true; \n",
    "function code_toggle() {\n",
    " if (code_show){\n",
    " $('div.input').hide();\n",
    " } else {\n",
    " $('div.input').show();\n",
    " }\n",
    " code_show = !code_show\n",
    "} \n",
    "$( document ).ready(code_toggle);\n",
    "</script>\n",
    "The raw code for this IPython notebook is by default hidden for easier reading.\n",
    "To toggle on/off the raw code, click <a href=\"javascript:code_toggle()\">here</a>.''')"
   ]
  },
  {
   "cell_type": "markdown",
   "metadata": {},
   "source": [
    "# League of Legends Data Analysis "
   ]
  },
  {
   "cell_type": "markdown",
   "metadata": {},
   "source": [
    "In this part of the project we take the necesarry time and resources to clean and analyze the dataset to the point where the dataset is tidy and every aspect of the dataset is understood (which considering my previous knowledge of the game it may not take that much time). \n",
    "\n",
    "Heres how the dataset looked at the beginning of the process. Originally, the dataset had the champion and summoner spells IDs instead of the name of the champion or spell. This may not seem as a big problem since we will not be concentrating on the champions for these projects, but this will definitely cause some problems if you dont know anything of the game and you just see a bunch of numbers with no apparent meaning. "
   ]
  },
  {
   "cell_type": "code",
   "execution_count": 3,
   "metadata": {},
   "outputs": [
    {
     "data": {
      "text/html": [
       "<div>\n",
       "<style scoped>\n",
       "    .dataframe tbody tr th:only-of-type {\n",
       "        vertical-align: middle;\n",
       "    }\n",
       "\n",
       "    .dataframe tbody tr th {\n",
       "        vertical-align: top;\n",
       "    }\n",
       "\n",
       "    .dataframe thead th {\n",
       "        text-align: right;\n",
       "    }\n",
       "</style>\n",
       "<table border=\"1\" class=\"dataframe\">\n",
       "  <thead>\n",
       "    <tr style=\"text-align: right;\">\n",
       "      <th></th>\n",
       "      <th>gameId</th>\n",
       "      <th>creationTime</th>\n",
       "      <th>gameDuration</th>\n",
       "      <th>seasonId</th>\n",
       "      <th>winner</th>\n",
       "      <th>firstBlood</th>\n",
       "      <th>firstTower</th>\n",
       "      <th>firstInhibitor</th>\n",
       "      <th>firstBaron</th>\n",
       "      <th>firstDragon</th>\n",
       "      <th>...</th>\n",
       "      <th>t2_towerKills</th>\n",
       "      <th>t2_inhibitorKills</th>\n",
       "      <th>t2_baronKills</th>\n",
       "      <th>t2_dragonKills</th>\n",
       "      <th>t2_riftHeraldKills</th>\n",
       "      <th>t2_ban1</th>\n",
       "      <th>t2_ban2</th>\n",
       "      <th>t2_ban3</th>\n",
       "      <th>t2_ban4</th>\n",
       "      <th>t2_ban5</th>\n",
       "    </tr>\n",
       "  </thead>\n",
       "  <tbody>\n",
       "    <tr>\n",
       "      <th>0</th>\n",
       "      <td>3326086514</td>\n",
       "      <td>1504279457970</td>\n",
       "      <td>1949</td>\n",
       "      <td>9</td>\n",
       "      <td>1</td>\n",
       "      <td>2</td>\n",
       "      <td>1</td>\n",
       "      <td>1</td>\n",
       "      <td>1</td>\n",
       "      <td>1</td>\n",
       "      <td>...</td>\n",
       "      <td>5</td>\n",
       "      <td>0</td>\n",
       "      <td>0</td>\n",
       "      <td>1</td>\n",
       "      <td>1</td>\n",
       "      <td>114</td>\n",
       "      <td>67</td>\n",
       "      <td>43</td>\n",
       "      <td>16</td>\n",
       "      <td>51</td>\n",
       "    </tr>\n",
       "    <tr>\n",
       "      <th>1</th>\n",
       "      <td>3229566029</td>\n",
       "      <td>1497848803862</td>\n",
       "      <td>1851</td>\n",
       "      <td>9</td>\n",
       "      <td>1</td>\n",
       "      <td>1</td>\n",
       "      <td>1</td>\n",
       "      <td>1</td>\n",
       "      <td>0</td>\n",
       "      <td>1</td>\n",
       "      <td>...</td>\n",
       "      <td>2</td>\n",
       "      <td>0</td>\n",
       "      <td>0</td>\n",
       "      <td>0</td>\n",
       "      <td>0</td>\n",
       "      <td>11</td>\n",
       "      <td>67</td>\n",
       "      <td>238</td>\n",
       "      <td>51</td>\n",
       "      <td>420</td>\n",
       "    </tr>\n",
       "    <tr>\n",
       "      <th>2</th>\n",
       "      <td>3327363504</td>\n",
       "      <td>1504360103310</td>\n",
       "      <td>1493</td>\n",
       "      <td>9</td>\n",
       "      <td>1</td>\n",
       "      <td>2</td>\n",
       "      <td>1</td>\n",
       "      <td>1</td>\n",
       "      <td>1</td>\n",
       "      <td>2</td>\n",
       "      <td>...</td>\n",
       "      <td>2</td>\n",
       "      <td>0</td>\n",
       "      <td>0</td>\n",
       "      <td>1</td>\n",
       "      <td>0</td>\n",
       "      <td>157</td>\n",
       "      <td>238</td>\n",
       "      <td>121</td>\n",
       "      <td>57</td>\n",
       "      <td>28</td>\n",
       "    </tr>\n",
       "    <tr>\n",
       "      <th>3</th>\n",
       "      <td>3326856598</td>\n",
       "      <td>1504348503996</td>\n",
       "      <td>1758</td>\n",
       "      <td>9</td>\n",
       "      <td>1</td>\n",
       "      <td>1</td>\n",
       "      <td>1</td>\n",
       "      <td>1</td>\n",
       "      <td>1</td>\n",
       "      <td>1</td>\n",
       "      <td>...</td>\n",
       "      <td>0</td>\n",
       "      <td>0</td>\n",
       "      <td>0</td>\n",
       "      <td>0</td>\n",
       "      <td>0</td>\n",
       "      <td>164</td>\n",
       "      <td>18</td>\n",
       "      <td>141</td>\n",
       "      <td>40</td>\n",
       "      <td>51</td>\n",
       "    </tr>\n",
       "    <tr>\n",
       "      <th>4</th>\n",
       "      <td>3330080762</td>\n",
       "      <td>1504554410899</td>\n",
       "      <td>2094</td>\n",
       "      <td>9</td>\n",
       "      <td>1</td>\n",
       "      <td>2</td>\n",
       "      <td>1</td>\n",
       "      <td>1</td>\n",
       "      <td>1</td>\n",
       "      <td>1</td>\n",
       "      <td>...</td>\n",
       "      <td>3</td>\n",
       "      <td>0</td>\n",
       "      <td>0</td>\n",
       "      <td>1</td>\n",
       "      <td>0</td>\n",
       "      <td>86</td>\n",
       "      <td>11</td>\n",
       "      <td>201</td>\n",
       "      <td>122</td>\n",
       "      <td>18</td>\n",
       "    </tr>\n",
       "  </tbody>\n",
       "</table>\n",
       "<p>5 rows × 61 columns</p>\n",
       "</div>"
      ],
      "text/plain": [
       "       gameId   creationTime  gameDuration  seasonId  winner  firstBlood  \\\n",
       "0  3326086514  1504279457970          1949         9       1           2   \n",
       "1  3229566029  1497848803862          1851         9       1           1   \n",
       "2  3327363504  1504360103310          1493         9       1           2   \n",
       "3  3326856598  1504348503996          1758         9       1           1   \n",
       "4  3330080762  1504554410899          2094         9       1           2   \n",
       "\n",
       "   firstTower  firstInhibitor  firstBaron  firstDragon   ...     \\\n",
       "0           1               1           1            1   ...      \n",
       "1           1               1           0            1   ...      \n",
       "2           1               1           1            2   ...      \n",
       "3           1               1           1            1   ...      \n",
       "4           1               1           1            1   ...      \n",
       "\n",
       "   t2_towerKills  t2_inhibitorKills  t2_baronKills  t2_dragonKills  \\\n",
       "0              5                  0              0               1   \n",
       "1              2                  0              0               0   \n",
       "2              2                  0              0               1   \n",
       "3              0                  0              0               0   \n",
       "4              3                  0              0               1   \n",
       "\n",
       "   t2_riftHeraldKills  t2_ban1  t2_ban2  t2_ban3  t2_ban4  t2_ban5  \n",
       "0                   1      114       67       43       16       51  \n",
       "1                   0       11       67      238       51      420  \n",
       "2                   0      157      238      121       57       28  \n",
       "3                   0      164       18      141       40       51  \n",
       "4                   0       86       11      201      122       18  \n",
       "\n",
       "[5 rows x 61 columns]"
      ]
     },
     "execution_count": 3,
     "metadata": {},
     "output_type": "execute_result"
    }
   ],
   "source": [
    "df = pd.read_csv('games.csv')\n",
    "df.head()\n"
   ]
  },
  {
   "cell_type": "markdown",
   "metadata": {},
   "source": [
    "# Champion ID to Name "
   ]
  },
  {
   "cell_type": "markdown",
   "metadata": {},
   "source": [
    "### Champion Dictionary"
   ]
  },
  {
   "cell_type": "code",
   "execution_count": 4,
   "metadata": {},
   "outputs": [
    {
     "data": {
      "text/html": [
       "<div>\n",
       "<style scoped>\n",
       "    .dataframe tbody tr th:only-of-type {\n",
       "        vertical-align: middle;\n",
       "    }\n",
       "\n",
       "    .dataframe tbody tr th {\n",
       "        vertical-align: top;\n",
       "    }\n",
       "\n",
       "    .dataframe thead th {\n",
       "        text-align: right;\n",
       "    }\n",
       "</style>\n",
       "<table border=\"1\" class=\"dataframe\">\n",
       "  <thead>\n",
       "    <tr style=\"text-align: right;\">\n",
       "      <th></th>\n",
       "      <th>key</th>\n",
       "      <th>name</th>\n",
       "      <th>tags</th>\n",
       "      <th>title</th>\n",
       "    </tr>\n",
       "    <tr>\n",
       "      <th>id</th>\n",
       "      <th></th>\n",
       "      <th></th>\n",
       "      <th></th>\n",
       "      <th></th>\n",
       "    </tr>\n",
       "  </thead>\n",
       "  <tbody>\n",
       "    <tr>\n",
       "      <th>154</th>\n",
       "      <td>Zac</td>\n",
       "      <td>Zac</td>\n",
       "      <td>[Tank, Fighter]</td>\n",
       "      <td>the Secret Weapon</td>\n",
       "    </tr>\n",
       "    <tr>\n",
       "      <th>238</th>\n",
       "      <td>Zed</td>\n",
       "      <td>Zed</td>\n",
       "      <td>[Assassin, Fighter]</td>\n",
       "      <td>the Master of Shadows</td>\n",
       "    </tr>\n",
       "    <tr>\n",
       "      <th>115</th>\n",
       "      <td>Ziggs</td>\n",
       "      <td>Ziggs</td>\n",
       "      <td>[Mage]</td>\n",
       "      <td>the Hexplosives Expert</td>\n",
       "    </tr>\n",
       "    <tr>\n",
       "      <th>26</th>\n",
       "      <td>Zilean</td>\n",
       "      <td>Zilean</td>\n",
       "      <td>[Support, Mage]</td>\n",
       "      <td>the Chronokeeper</td>\n",
       "    </tr>\n",
       "    <tr>\n",
       "      <th>143</th>\n",
       "      <td>Zyra</td>\n",
       "      <td>Zyra</td>\n",
       "      <td>[Mage, Support]</td>\n",
       "      <td>Rise of the Thorns</td>\n",
       "    </tr>\n",
       "  </tbody>\n",
       "</table>\n",
       "</div>"
      ],
      "text/plain": [
       "        key    name                 tags                   title\n",
       "id                                                              \n",
       "154     Zac     Zac      [Tank, Fighter]       the Secret Weapon\n",
       "238     Zed     Zed  [Assassin, Fighter]   the Master of Shadows\n",
       "115   Ziggs   Ziggs               [Mage]  the Hexplosives Expert\n",
       "26   Zilean  Zilean      [Support, Mage]        the Chronokeeper\n",
       "143    Zyra    Zyra      [Mage, Support]      Rise of the Thorns"
      ]
     },
     "execution_count": 4,
     "metadata": {},
     "output_type": "execute_result"
    }
   ],
   "source": [
    "jDict = pd.read_json('champion_info_2.json')\n",
    "champInfo = pd.read_json((jDict['data']).to_json(), orient='index')\n",
    "champInfo.set_index(['id'], inplace=True)\n",
    "champInfo.tail()"
   ]
  },
  {
   "cell_type": "markdown",
   "metadata": {},
   "source": [
    "### Spell Dictionary "
   ]
  },
  {
   "cell_type": "code",
   "execution_count": 5,
   "metadata": {},
   "outputs": [
    {
     "data": {
      "text/html": [
       "<div>\n",
       "<style scoped>\n",
       "    .dataframe tbody tr th:only-of-type {\n",
       "        vertical-align: middle;\n",
       "    }\n",
       "\n",
       "    .dataframe tbody tr th {\n",
       "        vertical-align: top;\n",
       "    }\n",
       "\n",
       "    .dataframe thead th {\n",
       "        text-align: right;\n",
       "    }\n",
       "</style>\n",
       "<table border=\"1\" class=\"dataframe\">\n",
       "  <thead>\n",
       "    <tr style=\"text-align: right;\">\n",
       "      <th></th>\n",
       "      <th>description</th>\n",
       "      <th>id</th>\n",
       "      <th>key</th>\n",
       "      <th>name</th>\n",
       "      <th>summonerLevel</th>\n",
       "    </tr>\n",
       "  </thead>\n",
       "  <tbody>\n",
       "    <tr>\n",
       "      <th>1</th>\n",
       "      <td>Removes all disables (excluding suppression an...</td>\n",
       "      <td>1</td>\n",
       "      <td>SummonerBoost</td>\n",
       "      <td>Cleanse</td>\n",
       "      <td>6</td>\n",
       "    </tr>\n",
       "    <tr>\n",
       "      <th>11</th>\n",
       "      <td>Deals 390-1000 true damage (depending on champ...</td>\n",
       "      <td>11</td>\n",
       "      <td>SummonerSmite</td>\n",
       "      <td>Smite</td>\n",
       "      <td>10</td>\n",
       "    </tr>\n",
       "    <tr>\n",
       "      <th>12</th>\n",
       "      <td>After channeling for 4.5 seconds, teleports yo...</td>\n",
       "      <td>12</td>\n",
       "      <td>SummonerTeleport</td>\n",
       "      <td>Teleport</td>\n",
       "      <td>6</td>\n",
       "    </tr>\n",
       "    <tr>\n",
       "      <th>13</th>\n",
       "      <td>Restores 50% of your champion's maximum Mana. ...</td>\n",
       "      <td>13</td>\n",
       "      <td>SummonerMana</td>\n",
       "      <td>Clarity</td>\n",
       "      <td>1</td>\n",
       "    </tr>\n",
       "    <tr>\n",
       "      <th>14</th>\n",
       "      <td>Ignites target enemy champion, dealing 70-410 ...</td>\n",
       "      <td>14</td>\n",
       "      <td>SummonerDot</td>\n",
       "      <td>Ignite</td>\n",
       "      <td>10</td>\n",
       "    </tr>\n",
       "  </tbody>\n",
       "</table>\n",
       "</div>"
      ],
      "text/plain": [
       "                                          description  id               key  \\\n",
       "1   Removes all disables (excluding suppression an...   1     SummonerBoost   \n",
       "11  Deals 390-1000 true damage (depending on champ...  11     SummonerSmite   \n",
       "12  After channeling for 4.5 seconds, teleports yo...  12  SummonerTeleport   \n",
       "13  Restores 50% of your champion's maximum Mana. ...  13      SummonerMana   \n",
       "14  Ignites target enemy champion, dealing 70-410 ...  14       SummonerDot   \n",
       "\n",
       "        name  summonerLevel  \n",
       "1    Cleanse              6  \n",
       "11     Smite             10  \n",
       "12  Teleport              6  \n",
       "13   Clarity              1  \n",
       "14    Ignite             10  "
      ]
     },
     "execution_count": 5,
     "metadata": {},
     "output_type": "execute_result"
    }
   ],
   "source": [
    "spellJson = pd.read_json('summoner_spell_info.json')\n",
    "spellInfo = pd.read_json((spellJson['data']).to_json(),orient='index')\n",
    "spellInfo.head()"
   ]
  },
  {
   "cell_type": "code",
   "execution_count": 6,
   "metadata": {},
   "outputs": [],
   "source": [
    "champCols = ['t1_champ1id','t1_champ2id','t1_champ3id','t1_champ4id','t1_champ5id',\n",
    "             't2_champ1id','t2_champ2id','t2_champ3id','t2_champ4id','t2_champ5id']\n",
    "banCols = ['t1_ban1','t1_ban2','t1_ban3','t1_ban4','t1_ban5',\n",
    "             't2_ban1','t2_ban2','t2_ban3','t2_ban4','t2_ban5',]\n",
    "sumSpellsCols = ['t1_champ1_sum1','t1_champ1_sum2','t1_champ2_sum1','t1_champ2_sum2','t1_champ3_sum1','t1_champ3_sum2',\n",
    "                 't1_champ4_sum1','t1_champ4_sum2','t1_champ5_sum1','t1_champ5_sum2','t2_champ1_sum1','t2_champ1_sum2',\n",
    "                 't2_champ2_sum1','t2_champ2_sum2','t2_champ3_sum1','t2_champ3_sum2','t2_champ4_sum1','t2_champ4_sum2',\n",
    "                 't2_champ5_sum1','t2_champ5_sum2']"
   ]
  },
  {
   "cell_type": "code",
   "execution_count": 7,
   "metadata": {},
   "outputs": [],
   "source": [
    "\n",
    "\n",
    "def idToName(ID, dic):\n",
    "    '''\n",
    "    ID: champion ID as listed in original dataframe\n",
    "    dic: champInfo from json, defined above\n",
    "\n",
    "    used to convert ID's to champion names\n",
    "    '''\n",
    "    champ = dic['name'][ID]\n",
    "    return champ  "
   ]
  },
  {
   "cell_type": "code",
   "execution_count": 8,
   "metadata": {},
   "outputs": [],
   "source": [
    "\n",
    "for c in champCols:\n",
    "    df[c] = df[c].apply(lambda x: idToName(x, champInfo))\n",
    "\n",
    "for c in banCols:\n",
    "    df[c] = df[c].apply(lambda x: idToName(x, champInfo)) \n",
    "\n",
    "for c in sumSpellsCols:\n",
    "    df[c] = df[c].apply(lambda x: idToName(x, spellInfo))\n",
    "\n",
    "    "
   ]
  },
  {
   "cell_type": "markdown",
   "metadata": {},
   "source": [
    "As you can see now, both the columns of champions and summoner spells have been changed to its real names. "
   ]
  },
  {
   "cell_type": "code",
   "execution_count": 9,
   "metadata": {},
   "outputs": [
    {
     "data": {
      "text/plain": [
       "array(['Exhaust', 'Teleport', 'Smite', 'Flash', 'Heal', 'Ignite',\n",
       "       'Barrier', 'Ghost', 'Cleanse'], dtype=object)"
      ]
     },
     "execution_count": 9,
     "metadata": {},
     "output_type": "execute_result"
    }
   ],
   "source": [
    "df['t1_champ2_sum1'].unique()"
   ]
  },
  {
   "cell_type": "code",
   "execution_count": 10,
   "metadata": {},
   "outputs": [
    {
     "data": {
      "text/plain": [
       "array(['Bard', 'Irelia', 'Kayn', 'Brand', 'Twitch', 'Teemo', 'Xayah',\n",
       "       'Maokai', 'Master Yi', 'Lucian', 'Twisted Fate', 'Fizz', 'LeBlanc',\n",
       "       'Ahri', 'Katarina', 'Janna', 'Ezreal', 'Lee Sin', 'Corki',\n",
       "       'Dr. Mundo', 'Lulu', 'Kalista', 'Evelynn', 'Tryndamere', 'Viktor',\n",
       "       \"Cho'Gath\", 'Yasuo', 'Miss Fortune', 'Leona', 'Akali', 'Tristana',\n",
       "       'Thresh', 'Olaf', 'Sona', 'Braum', \"Kog'Maw\", 'Draven', 'Gragas',\n",
       "       'Rakan', 'Ekko', 'Malzahar', 'Trundle', 'Blitzcrank', 'Zed',\n",
       "       'Ashe', 'Jarvan IV', 'Kled', 'Rammus', 'Warwick', 'Kennen',\n",
       "       'Elise', 'Nasus', 'Fiddlesticks', 'Taric', 'Shen', 'Nami', 'Kayle',\n",
       "       'Soraka', 'Darius', 'Nidalee', 'Karma', 'Vi', 'Rumble', 'Varus',\n",
       "       'Gnar', 'Syndra', 'Taliyah', 'Gangplank', 'Veigar', 'Heimerdinger',\n",
       "       'Jinx', 'Vayne', 'Caitlyn', 'Xin Zhao', 'Aurelion Sol', 'Udyr',\n",
       "       \"Kha'Zix\", 'Morgana', 'Lux', 'Renekton', 'Alistar', 'Quinn',\n",
       "       'Sivir', 'Jhin', 'Rengar', 'Nocturne', 'Lissandra', 'Shyvana',\n",
       "       'Nautilus', 'Ornn', 'Kassadin', 'Orianna', 'Annie', 'Riven',\n",
       "       'Volibear', 'Garen', 'Urgot', 'Ivern', 'Malphite', 'Singed',\n",
       "       'Karthus', 'Sion', 'Fiora', 'Jax', 'Talon', 'Ziggs', 'Zilean',\n",
       "       'Pantheon', 'Vladimir', 'Diana', 'Galio', 'Tahm Kench', 'Sejuani',\n",
       "       \"Rek'Sai\", 'Kindred', 'Swain', 'Illaoi', 'Ryze', 'Xerath',\n",
       "       'Anivia', 'Yorick', \"Vel'Koz\", 'Graves', 'Cassiopeia', 'Jayce',\n",
       "       'Aatrox', 'Wukong', 'Zyra', 'Mordekaiser', 'Amumu', 'Zac',\n",
       "       'Camille', 'Shaco', 'Hecarim', 'Poppy', 'Azir', 'Nunu', 'Skarner'],\n",
       "      dtype=object)"
      ]
     },
     "execution_count": 10,
     "metadata": {},
     "output_type": "execute_result"
    }
   ],
   "source": [
    "df['t1_champ2id'].unique()"
   ]
  },
  {
   "cell_type": "markdown",
   "metadata": {},
   "source": [
    "# Exploratory Analysis "
   ]
  },
  {
   "cell_type": "markdown",
   "metadata": {},
   "source": [
    "## NA Analysis"
   ]
  },
  {
   "cell_type": "markdown",
   "metadata": {},
   "source": [
    "It would we really weird to find any kind of NA values that are really just noise. In these kind of MOBA games missing values often do have a meaning. Plus, the dataset we are using was downloaded using the Riot Games API using the Casipieia wrap so there are low chances of the dataset having NAs. But just for the fun of it, lets be sure.  "
   ]
  },
  {
   "cell_type": "code",
   "execution_count": 11,
   "metadata": {},
   "outputs": [
    {
     "data": {
      "text/plain": [
       "gameId                0\n",
       "creationTime          0\n",
       "gameDuration          0\n",
       "seasonId              0\n",
       "winner                0\n",
       "firstBlood            0\n",
       "firstTower            0\n",
       "firstInhibitor        0\n",
       "firstBaron            0\n",
       "firstDragon           0\n",
       "firstRiftHerald       0\n",
       "t1_champ1id           0\n",
       "t1_champ1_sum1        0\n",
       "t1_champ1_sum2        0\n",
       "t1_champ2id           0\n",
       "t1_champ2_sum1        0\n",
       "t1_champ2_sum2        0\n",
       "t1_champ3id           0\n",
       "t1_champ3_sum1        0\n",
       "t1_champ3_sum2        0\n",
       "t1_champ4id           0\n",
       "t1_champ4_sum1        0\n",
       "t1_champ4_sum2        0\n",
       "t1_champ5id           0\n",
       "t1_champ5_sum1        0\n",
       "t1_champ5_sum2        0\n",
       "t1_towerKills         0\n",
       "t1_inhibitorKills     0\n",
       "t1_baronKills         0\n",
       "t1_dragonKills        0\n",
       "                     ..\n",
       "t1_ban1               0\n",
       "t1_ban2               0\n",
       "t1_ban3               0\n",
       "t1_ban4               0\n",
       "t1_ban5               0\n",
       "t2_champ1id           0\n",
       "t2_champ1_sum1        0\n",
       "t2_champ1_sum2        0\n",
       "t2_champ2id           0\n",
       "t2_champ2_sum1        0\n",
       "t2_champ2_sum2        0\n",
       "t2_champ3id           0\n",
       "t2_champ3_sum1        0\n",
       "t2_champ3_sum2        0\n",
       "t2_champ4id           0\n",
       "t2_champ4_sum1        0\n",
       "t2_champ4_sum2        0\n",
       "t2_champ5id           0\n",
       "t2_champ5_sum1        0\n",
       "t2_champ5_sum2        0\n",
       "t2_towerKills         0\n",
       "t2_inhibitorKills     0\n",
       "t2_baronKills         0\n",
       "t2_dragonKills        0\n",
       "t2_riftHeraldKills    0\n",
       "t2_ban1               0\n",
       "t2_ban2               0\n",
       "t2_ban3               0\n",
       "t2_ban4               0\n",
       "t2_ban5               0\n",
       "Length: 61, dtype: int64"
      ]
     },
     "execution_count": 11,
     "metadata": {},
     "output_type": "execute_result"
    }
   ],
   "source": [
    "len(df) - df.count()"
   ]
  },
  {
   "cell_type": "markdown",
   "metadata": {},
   "source": [
    "## Correlation Heat Map"
   ]
  },
  {
   "cell_type": "code",
   "execution_count": 23,
   "metadata": {},
   "outputs": [
    {
     "data": {
      "text/plain": [
       "<matplotlib.axes._subplots.AxesSubplot at 0x1d3b5d8a048>"
      ]
     },
     "execution_count": 23,
     "metadata": {},
     "output_type": "execute_result"
    },
    {
     "data": {
      "image/png": "[encoded data removed]",
      "text/plain": [
       "<Figure size 720x720 with 2 Axes>"
      ]
     },
     "metadata": {
      "needs_background": "light"
     },
     "output_type": "display_data"
    }
   ],
   "source": [
    "fig = plt.figure(figsize=(10,10))\n",
    "sns.heatmap(df[['t1_towerKills','t1_inhibitorKills','t1_dragonKills','t1_baronKills',\n",
    "                  't2_towerKills','t2_inhibitorKills','t2_dragonKills','t2_baronKills','winner']].corr(),annot=True,square=True)"
   ]
  },
  {
   "cell_type": "code",
   "execution_count": 24,
   "metadata": {},
   "outputs": [],
   "source": [
    "data = df\n",
    "sumPicks = pd.concat([df['t1_champ1id'],data['t1_champ2id'],data['t1_champ3id'],data['t1_champ4id'],data['t1_champ5id'],\n",
    "                      data['t2_champ1id'],data['t2_champ2id'],data['t2_champ3id'],data['t2_champ4id'],data['t2_champ5id']],\n",
    "                      ignore_index=True)\n",
    "sortedPicks = sorted(sumPicks)\n",
    "sumBans = pd.concat([data['t1_ban1'],data['t1_ban2'],data['t1_ban3'],data['t1_ban4'],data['t1_ban5'],\n",
    "                     data['t2_ban1'],data['t2_ban2'],data['t2_ban3'],data['t2_ban4'],data['t2_ban5']],\n",
    "                     ignore_index=True)\n",
    "sortedBans = sorted(sumBans)"
   ]
  },
  {
   "cell_type": "markdown",
   "metadata": {},
   "source": [
    "# Most Banned Champions and Most Common Picks \n"
   ]
  },
  {
   "cell_type": "markdown",
   "metadata": {},
   "source": [
    "fig, (ax1, ax2) = plt.subplots(ncols=2, sharey=False, figsize=(15,30))\n",
    "plt.xticks(rotation=90)\n",
    "sns.countplot(y=sortedPicks, data=data, ax=ax1)\n",
    "sns.countplot(y=sortedBans, data=data, ax=ax2)\n",
    "ax1.set_title('Champion Picks')\n",
    "ax2.set_title('Champion Bans')"
   ]
  },
  {
   "cell_type": "markdown",
   "metadata": {},
   "source": [
    "# Team Priorities"
   ]
  },
  {
   "cell_type": "markdown",
   "metadata": {},
   "source": [
    "League of Legends has a wide arrange of objectives you may want to fight for if you want to ensure victory. Defending towers, epic dragons, a Hydra-like monster called Baron Nashor, and the Rift Herald are just some of the factors that will determine the probabilities of your team destroying the enemy's nexus before they destroy yours. \n",
    "\n",
    "So knowing wich team was the first one to secure said objectives can give us an idea to how important these are to the result of the game. "
   ]
  },
  {
   "cell_type": "code",
   "execution_count": 14,
   "metadata": {},
   "outputs": [
    {
     "data": {
      "text/html": [
       "<div>\n",
       "<style scoped>\n",
       "    .dataframe tbody tr th:only-of-type {\n",
       "        vertical-align: middle;\n",
       "    }\n",
       "\n",
       "    .dataframe tbody tr th {\n",
       "        vertical-align: top;\n",
       "    }\n",
       "\n",
       "    .dataframe thead th {\n",
       "        text-align: right;\n",
       "    }\n",
       "</style>\n",
       "<table border=\"1\" class=\"dataframe\">\n",
       "  <thead>\n",
       "    <tr style=\"text-align: right;\">\n",
       "      <th></th>\n",
       "      <th>gameId</th>\n",
       "      <th>creationTime</th>\n",
       "      <th>gameDuration</th>\n",
       "      <th>seasonId</th>\n",
       "      <th>winner</th>\n",
       "      <th>firstBlood</th>\n",
       "      <th>firstTower</th>\n",
       "      <th>firstInhibitor</th>\n",
       "      <th>firstBaron</th>\n",
       "      <th>firstDragon</th>\n",
       "      <th>...</th>\n",
       "      <th>t2_towerKills</th>\n",
       "      <th>t2_inhibitorKills</th>\n",
       "      <th>t2_baronKills</th>\n",
       "      <th>t2_dragonKills</th>\n",
       "      <th>t2_riftHeraldKills</th>\n",
       "      <th>t2_ban1</th>\n",
       "      <th>t2_ban2</th>\n",
       "      <th>t2_ban3</th>\n",
       "      <th>t2_ban4</th>\n",
       "      <th>t2_ban5</th>\n",
       "    </tr>\n",
       "  </thead>\n",
       "  <tbody>\n",
       "    <tr>\n",
       "      <th>0</th>\n",
       "      <td>3326086514</td>\n",
       "      <td>1504279457970</td>\n",
       "      <td>1949</td>\n",
       "      <td>9</td>\n",
       "      <td>blue</td>\n",
       "      <td>red</td>\n",
       "      <td>blue</td>\n",
       "      <td>blue</td>\n",
       "      <td>blue</td>\n",
       "      <td>blue</td>\n",
       "      <td>...</td>\n",
       "      <td>5</td>\n",
       "      <td>neither</td>\n",
       "      <td>neither</td>\n",
       "      <td>blue</td>\n",
       "      <td>blue</td>\n",
       "      <td>Fiora</td>\n",
       "      <td>Vayne</td>\n",
       "      <td>Karma</td>\n",
       "      <td>Soraka</td>\n",
       "      <td>Caitlyn</td>\n",
       "    </tr>\n",
       "    <tr>\n",
       "      <th>1</th>\n",
       "      <td>3229566029</td>\n",
       "      <td>1497848803862</td>\n",
       "      <td>1851</td>\n",
       "      <td>9</td>\n",
       "      <td>blue</td>\n",
       "      <td>blue</td>\n",
       "      <td>blue</td>\n",
       "      <td>blue</td>\n",
       "      <td>neither</td>\n",
       "      <td>blue</td>\n",
       "      <td>...</td>\n",
       "      <td>red</td>\n",
       "      <td>neither</td>\n",
       "      <td>neither</td>\n",
       "      <td>neither</td>\n",
       "      <td>neither</td>\n",
       "      <td>Master Yi</td>\n",
       "      <td>Vayne</td>\n",
       "      <td>Zed</td>\n",
       "      <td>Caitlyn</td>\n",
       "      <td>Illaoi</td>\n",
       "    </tr>\n",
       "    <tr>\n",
       "      <th>2</th>\n",
       "      <td>3327363504</td>\n",
       "      <td>1504360103310</td>\n",
       "      <td>1493</td>\n",
       "      <td>9</td>\n",
       "      <td>blue</td>\n",
       "      <td>red</td>\n",
       "      <td>blue</td>\n",
       "      <td>blue</td>\n",
       "      <td>blue</td>\n",
       "      <td>red</td>\n",
       "      <td>...</td>\n",
       "      <td>red</td>\n",
       "      <td>neither</td>\n",
       "      <td>neither</td>\n",
       "      <td>blue</td>\n",
       "      <td>neither</td>\n",
       "      <td>Yasuo</td>\n",
       "      <td>Zed</td>\n",
       "      <td>Kha'Zix</td>\n",
       "      <td>Maokai</td>\n",
       "      <td>Evelynn</td>\n",
       "    </tr>\n",
       "    <tr>\n",
       "      <th>3</th>\n",
       "      <td>3326856598</td>\n",
       "      <td>1504348503996</td>\n",
       "      <td>1758</td>\n",
       "      <td>9</td>\n",
       "      <td>blue</td>\n",
       "      <td>blue</td>\n",
       "      <td>blue</td>\n",
       "      <td>blue</td>\n",
       "      <td>blue</td>\n",
       "      <td>blue</td>\n",
       "      <td>...</td>\n",
       "      <td>neither</td>\n",
       "      <td>neither</td>\n",
       "      <td>neither</td>\n",
       "      <td>neither</td>\n",
       "      <td>neither</td>\n",
       "      <td>Camille</td>\n",
       "      <td>Tristana</td>\n",
       "      <td>Kayn</td>\n",
       "      <td>Janna</td>\n",
       "      <td>Caitlyn</td>\n",
       "    </tr>\n",
       "    <tr>\n",
       "      <th>4</th>\n",
       "      <td>3330080762</td>\n",
       "      <td>1504554410899</td>\n",
       "      <td>2094</td>\n",
       "      <td>9</td>\n",
       "      <td>blue</td>\n",
       "      <td>red</td>\n",
       "      <td>blue</td>\n",
       "      <td>blue</td>\n",
       "      <td>blue</td>\n",
       "      <td>blue</td>\n",
       "      <td>...</td>\n",
       "      <td>3</td>\n",
       "      <td>neither</td>\n",
       "      <td>neither</td>\n",
       "      <td>blue</td>\n",
       "      <td>neither</td>\n",
       "      <td>Garen</td>\n",
       "      <td>Master Yi</td>\n",
       "      <td>Braum</td>\n",
       "      <td>Darius</td>\n",
       "      <td>Tristana</td>\n",
       "    </tr>\n",
       "  </tbody>\n",
       "</table>\n",
       "<p>5 rows × 61 columns</p>\n",
       "</div>"
      ],
      "text/plain": [
       "       gameId   creationTime  gameDuration  seasonId winner firstBlood  \\\n",
       "0  3326086514  1504279457970          1949         9   blue        red   \n",
       "1  3229566029  1497848803862          1851         9   blue       blue   \n",
       "2  3327363504  1504360103310          1493         9   blue        red   \n",
       "3  3326856598  1504348503996          1758         9   blue       blue   \n",
       "4  3330080762  1504554410899          2094         9   blue        red   \n",
       "\n",
       "  firstTower firstInhibitor firstBaron firstDragon    ...    t2_towerKills  \\\n",
       "0       blue           blue       blue        blue    ...                5   \n",
       "1       blue           blue    neither        blue    ...              red   \n",
       "2       blue           blue       blue         red    ...              red   \n",
       "3       blue           blue       blue        blue    ...          neither   \n",
       "4       blue           blue       blue        blue    ...                3   \n",
       "\n",
       "  t2_inhibitorKills t2_baronKills t2_dragonKills t2_riftHeraldKills  \\\n",
       "0           neither       neither           blue               blue   \n",
       "1           neither       neither        neither            neither   \n",
       "2           neither       neither           blue            neither   \n",
       "3           neither       neither        neither            neither   \n",
       "4           neither       neither           blue            neither   \n",
       "\n",
       "     t2_ban1    t2_ban2  t2_ban3  t2_ban4   t2_ban5  \n",
       "0      Fiora      Vayne    Karma   Soraka   Caitlyn  \n",
       "1  Master Yi      Vayne      Zed  Caitlyn    Illaoi  \n",
       "2      Yasuo        Zed  Kha'Zix   Maokai   Evelynn  \n",
       "3    Camille   Tristana     Kayn    Janna   Caitlyn  \n",
       "4      Garen  Master Yi    Braum   Darius  Tristana  \n",
       "\n",
       "[5 rows x 61 columns]"
      ]
     },
     "execution_count": 14,
     "metadata": {},
     "output_type": "execute_result"
    }
   ],
   "source": [
    "dataClean = data.replace([0,1,2],['neither','blue','red'])\n",
    "\n",
    "dataClean.head()"
   ]
  },
  {
   "cell_type": "markdown",
   "metadata": {},
   "source": [
    "To speed up the analitic process I will change the 0 values to neither, 1 values to blue, and 2 values to red, so we can identify if the red or the blue team secured said objectives. Plus, it will be easier to see on the graphs which team had the early game edge. "
   ]
  },
  {
   "cell_type": "code",
   "execution_count": 29,
   "metadata": {},
   "outputs": [
    {
     "data": {
      "text/html": [
       "<div>\n",
       "<style scoped>\n",
       "    .dataframe tbody tr th:only-of-type {\n",
       "        vertical-align: middle;\n",
       "    }\n",
       "\n",
       "    .dataframe tbody tr th {\n",
       "        vertical-align: top;\n",
       "    }\n",
       "\n",
       "    .dataframe thead th {\n",
       "        text-align: right;\n",
       "    }\n",
       "</style>\n",
       "<table border=\"1\" class=\"dataframe\">\n",
       "  <thead>\n",
       "    <tr style=\"text-align: right;\">\n",
       "      <th></th>\n",
       "      <th>firstBlood</th>\n",
       "      <th>firstTower</th>\n",
       "      <th>firstInhibitor</th>\n",
       "      <th>firstBaron</th>\n",
       "      <th>firstDragon</th>\n",
       "      <th>firstRiftHerald</th>\n",
       "    </tr>\n",
       "  </thead>\n",
       "  <tbody>\n",
       "    <tr>\n",
       "      <th>blue</th>\n",
       "      <td>26113</td>\n",
       "      <td>25861</td>\n",
       "      <td>23054</td>\n",
       "      <td>14758</td>\n",
       "      <td>24690</td>\n",
       "      <td>12948</td>\n",
       "    </tr>\n",
       "    <tr>\n",
       "      <th>red</th>\n",
       "      <td>24822</td>\n",
       "      <td>24416</td>\n",
       "      <td>22160</td>\n",
       "      <td>16474</td>\n",
       "      <td>24800</td>\n",
       "      <td>12363</td>\n",
       "    </tr>\n",
       "    <tr>\n",
       "      <th>neither</th>\n",
       "      <td>555</td>\n",
       "      <td>1213</td>\n",
       "      <td>6276</td>\n",
       "      <td>20258</td>\n",
       "      <td>2000</td>\n",
       "      <td>26179</td>\n",
       "    </tr>\n",
       "  </tbody>\n",
       "</table>\n",
       "</div>"
      ],
      "text/plain": [
       "         firstBlood  firstTower  firstInhibitor  firstBaron  firstDragon  \\\n",
       "blue          26113       25861           23054       14758        24690   \n",
       "red           24822       24416           22160       16474        24800   \n",
       "neither         555        1213            6276       20258         2000   \n",
       "\n",
       "         firstRiftHerald  \n",
       "blue               12948  \n",
       "red                12363  \n",
       "neither            26179  "
      ]
     },
     "execution_count": 29,
     "metadata": {},
     "output_type": "execute_result"
    }
   ],
   "source": [
    "firsts = ['firstBlood','firstTower', 'firstInhibitor', 'firstBaron', 'firstDragon', 'firstRiftHerald']\n",
    "firstTotals = dataClean[firsts].apply(pd.value_counts)\n",
    "newIndex = ['blue','red','neither']\n",
    "firstSort = firstTotals.reindex(index=newIndex)\n",
    "firstSort"
   ]
  },
  {
   "cell_type": "markdown",
   "metadata": {},
   "source": [
    "Now, we will simply divide the data to have a better look at how it will be spreading on the graphs. "
   ]
  },
  {
   "cell_type": "markdown",
   "metadata": {},
   "source": [
    "### First Blood per Teams "
   ]
  },
  {
   "cell_type": "code",
   "execution_count": 28,
   "metadata": {},
   "outputs": [
    {
     "data": {
      "text/plain": [
       "Text(0.5, 1.0, 'First Blood')"
      ]
     },
     "execution_count": 28,
     "metadata": {},
     "output_type": "execute_result"
    },
    {
     "data": {
      "image/png": "[encoded data removed]",
      "text/plain": [
       "<Figure size 1080x720 with 1 Axes>"
      ]
     },
     "metadata": {
      "needs_background": "light"
     },
     "output_type": "display_data"
    }
   ],
   "source": [
    "fig = plt.figure(figsize=(15,10))\n",
    "ax = fig.add_subplot(2,3,1)\n",
    "sns.barplot(x=firstSort.index,y=firstSort[firstSort.columns[0]])\n",
    "ax.set_ylabel('Count')\n",
    "ax.yaxis.set_ticklabels([])\n",
    "ax.set_title(\"First Blood\")"
   ]
  },
  {
   "cell_type": "markdown",
   "metadata": {},
   "source": [
    "**First Tower Per Teams**"
   ]
  },
  {
   "cell_type": "code",
   "execution_count": 30,
   "metadata": {},
   "outputs": [
    {
     "data": {
      "text/plain": [
       "Text(0.5, 1.0, 'First Tower')"
      ]
     },
     "execution_count": 30,
     "metadata": {},
     "output_type": "execute_result"
    },
    {
     "data": {
      "image/png": "[encoded data removed]",
      "text/plain": [
       "<Figure size 1080x720 with 1 Axes>"
      ]
     },
     "metadata": {
      "needs_background": "light"
     },
     "output_type": "display_data"
    }
   ],
   "source": [
    "fig = plt.figure(figsize=(15,10))\n",
    "ax = fig.add_subplot(2,3,2)\n",
    "sns.barplot(x=firstSort.index,y=firstSort[firstSort.columns[1]])\n",
    "ax.set_ylabel('Count')\n",
    "ax.yaxis.set_ticklabels([])\n",
    "ax.set_title(\"First Tower\")"
   ]
  },
  {
   "cell_type": "code",
   "execution_count": null,
   "metadata": {},
   "outputs": [],
   "source": []
  },
  {
   "cell_type": "markdown",
   "metadata": {},
   "source": [
    "**First Inhibitor Per Teams**\n"
   ]
  },
  {
   "cell_type": "code",
   "execution_count": 18,
   "metadata": {},
   "outputs": [
    {
     "data": {
      "text/plain": [
       "Text(0.5, 1.0, 'First Inhibitor')"
      ]
     },
     "execution_count": 18,
     "metadata": {},
     "output_type": "execute_result"
    },
    {
     "data": {
      "image/png": "[encoded data removed]",
      "text/plain": [
       "<Figure size 1080x720 with 1 Axes>"
      ]
     },
     "metadata": {
      "needs_background": "light"
     },
     "output_type": "display_data"
    }
   ],
   "source": [
    "fig = plt.figure(figsize=(15,10))\n",
    "ax = fig.add_subplot(2,3,2)\n",
    "sns.barplot(x=firstSort.index,y=firstSort[firstSort.columns[2]])\n",
    "ax.set_ylabel('Count')\n",
    "ax.yaxis.set_ticklabels([])\n",
    "ax.set_title(\"First Inhibitor\")"
   ]
  },
  {
   "cell_type": "markdown",
   "metadata": {},
   "source": [
    "**First Baron Per Teams**"
   ]
  },
  {
   "cell_type": "code",
   "execution_count": 19,
   "metadata": {},
   "outputs": [
    {
     "data": {
      "text/plain": [
       "Text(0.5, 1.0, 'First Baron')"
      ]
     },
     "execution_count": 19,
     "metadata": {},
     "output_type": "execute_result"
    },
    {
     "data": {
      "image/png": "[encoded data removed]",
      "text/plain": [
       "<Figure size 1080x720 with 1 Axes>"
      ]
     },
     "metadata": {
      "needs_background": "light"
     },
     "output_type": "display_data"
    }
   ],
   "source": [
    "fig = plt.figure(figsize=(15,10))\n",
    "ax = fig.add_subplot(2,3,2)\n",
    "sns.barplot(x=firstSort.index,y=firstSort[firstSort.columns[3]])\n",
    "ax.set_ylabel('Count')\n",
    "ax.yaxis.set_ticklabels([])\n",
    "ax.set_title(\"First Baron\")"
   ]
  },
  {
   "cell_type": "markdown",
   "metadata": {},
   "source": [
    "**First Dragon Per Teams**"
   ]
  },
  {
   "cell_type": "code",
   "execution_count": 20,
   "metadata": {},
   "outputs": [
    {
     "data": {
      "text/plain": [
       "Text(0.5, 1.0, 'First Dragon')"
      ]
     },
     "execution_count": 20,
     "metadata": {},
     "output_type": "execute_result"
    },
    {
     "data": {
      "image/png": "[encoded data removed]",
      "text/plain": [
       "<Figure size 1080x720 with 1 Axes>"
      ]
     },
     "metadata": {
      "needs_background": "light"
     },
     "output_type": "display_data"
    }
   ],
   "source": [
    "fig = plt.figure(figsize=(15,10))\n",
    "ax = fig.add_subplot(2,3,2)\n",
    "sns.barplot(x=firstSort.index,y=firstSort[firstSort.columns[4]])\n",
    "ax.set_ylabel('Count')\n",
    "ax.yaxis.set_ticklabels([])\n",
    "ax.set_title(\"First Dragon\")"
   ]
  },
  {
   "cell_type": "markdown",
   "metadata": {},
   "source": [
    "**First Rift Herald Per Teams**"
   ]
  },
  {
   "cell_type": "code",
   "execution_count": 21,
   "metadata": {},
   "outputs": [
    {
     "data": {
      "text/plain": [
       "Text(0.5, 1.0, 'First Rift Herald')"
      ]
     },
     "execution_count": 21,
     "metadata": {},
     "output_type": "execute_result"
    },
    {
     "data": {
      "image/png": "[encoded data removed]",
      "text/plain": [
       "<Figure size 1080x720 with 1 Axes>"
      ]
     },
     "metadata": {
      "needs_background": "light"
     },
     "output_type": "display_data"
    }
   ],
   "source": [
    "fig = plt.figure(figsize=(15,10))\n",
    "ax = fig.add_subplot(2,3,2)\n",
    "sns.barplot(x=firstSort.index,y=firstSort[firstSort.columns[5]])\n",
    "ax.set_ylabel('Count')\n",
    "ax.yaxis.set_ticklabels([])\n",
    "ax.set_title(\"First Rift Herald\")"
   ]
  },
  {
   "cell_type": "code",
   "execution_count": 33,
   "metadata": {},
   "outputs": [],
   "source": [
    "dataClean.to_csv(\"Clean_LeagueOfLegends.csv\")\n"
   ]
  }
 ],
 "metadata": {
  "kernelspec": {
   "display_name": "Python 3",
   "language": "python",
   "name": "python3"
  },
  "language_info": {
   "codemirror_mode": {
    "name": "ipython",
    "version": 3
   },
   "file_extension": ".py",
   "mimetype": "text/x-python",
   "name": "python",
   "nbconvert_exporter": "python",
   "pygments_lexer": "ipython3",
   "version": "3.7.1"
  }
 },
 "nbformat": 4,
 "nbformat_minor": 2
}
