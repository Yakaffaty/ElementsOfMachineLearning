{
 "cells": [
  {
   "cell_type": "code",
   "execution_count": 1,
   "metadata": {},
   "outputs": [],
   "source": [
    "import pandas as pd\n",
    "import numpy as np\n",
    "import seaborn as sns\n",
    "from scipy import stats\n",
    "import numpy as np\n",
    "import pandas as pd\n",
    "from IPython.display import HTML\n",
    "import matplotlib\n",
    "import matplotlib.pyplot as plt\n",
    "import statsmodels.api as sm\n",
    "import seaborn as sns\n",
    "import statsmodels.formula.api as smf\n",
    "from sklearn.metrics import r2_score\n",
    "import patsy\n",
    "from patsy import dmatrix\n",
    "\n",
    "sns.set_style('darkgrid')\n",
    "\n",
    "# Use this in notebook to show plots\n",
    "%matplotlib inline\n",
    "\n",
    "import sklearn\n",
    "from sklearn.datasets import load_boston # No usaremos este, sino el Iris\n",
    "from sklearn.linear_model import LinearRegression\n",
    "from sklearn.model_selection import train_test_split\n",
    "from sklearn.metrics import mean_squared_error\n",
    "from sklearn.preprocessing import PolynomialFeatures\n",
    "from sklearn.pipeline import make_pipeline\n",
    "from sklearn.cluster import KMeans\n",
    "from sklearn.mixture import GaussianMixture\n",
    "from matplotlib.patches import Ellipse\n",
    "from sklearn.datasets import load_breast_cancer\n",
    "import seaborn as sns\n",
    "from sklearn.cluster import MeanShift, estimate_bandwidth\n",
    "from sklearn.mixture import GaussianMixture\n",
    "import matplotlib.pyplot as plt\n",
    "from matplotlib.patches import Ellipse\n",
    "import scipy\n",
    "from scipy.cluster.hierarchy import dendrogram, linkage\n",
    "from sklearn.preprocessing import StandardScaler\n",
    "from sklearn.discriminant_analysis import LinearDiscriminantAnalysis as LDA\n",
    "import matplotlib.pyplot as plt\n",
    "from sklearn.decomposition import PCA\n",
    "\n",
    "\n",
    "import os\n",
    "from sklearn.tree import export_graphviz\n",
    "import six\n",
    "import pydot\n",
    "from sklearn import tree\n",
    "\n",
    "from mlxtend.plotting import plot_confusion_matrix\n",
    "from sklearn.metrics import confusion_matrix\n",
    "\n"
   ]
  },
  {
   "cell_type": "code",
   "execution_count": 2,
   "metadata": {},
   "outputs": [
    {
     "data": {
      "text/html": [
       "<script>\n",
       "code_show=true; \n",
       "function code_toggle() {\n",
       " if (code_show){\n",
       " $('div.input').hide();\n",
       " } else {\n",
       " $('div.input').show();\n",
       " }\n",
       " code_show = !code_show\n",
       "} \n",
       "$( document ).ready(code_toggle);\n",
       "</script>\n",
       "The raw code for this IPython notebook is by default hidden for easier reading.\n",
       "To toggle on/off the raw code, click <a href=\"javascript:code_toggle()\">here</a>."
      ],
      "text/plain": [
       "<IPython.core.display.HTML object>"
      ]
     },
     "execution_count": 2,
     "metadata": {},
     "output_type": "execute_result"
    }
   ],
   "source": [
    "HTML('''<script>\n",
    "code_show=true; \n",
    "function code_toggle() {\n",
    " if (code_show){\n",
    " $('div.input').hide();\n",
    " } else {\n",
    " $('div.input').show();\n",
    " }\n",
    " code_show = !code_show\n",
    "} \n",
    "$( document ).ready(code_toggle);\n",
    "</script>\n",
    "The raw code for this IPython notebook is by default hidden for easier reading.\n",
    "To toggle on/off the raw code, click <a href=\"javascript:code_toggle()\">here</a>.''')"
   ]
  },
  {
   "cell_type": "markdown",
   "metadata": {},
   "source": [
    "# Analisis de Primeros Eventos De League of Legends"
   ]
  },
  {
   "cell_type": "markdown",
   "metadata": {},
   "source": [
    "Por **Yuri Kaffaty**\n",
    "\n",
    "Universidad Francisco Marroquin "
   ]
  },
  {
   "cell_type": "markdown",
   "metadata": {},
   "source": [
    "# **Abstract**\n",
    "\n",
    "En este trabajo se analizan los diferentes objetivos que existen en League of Legends (LoL) para poder definir cuales de ellos son mas importantes para asegurar una victoria. Para esto, utilizaremos el dataset de “League of Legends Ranked Games Details from over 50,000 ranked games of LoL”. Haremos diferentes pruebas con algunos de los algoritmos vistos durante el semestre (entre ellos diferentes modelos de regresión, Decision Trees, Redes Neuronales y Boosting) para comprobar que tanto peso tienen los primeros eventos, tales como la primera torre y el primer Baron Nashor, al momento de definir al ganador final en cada partida.\n"
   ]
  },
  {
   "cell_type": "markdown",
   "metadata": {},
   "source": [
    "# Introduccion\n",
    "League of Legends es por mucho uno de los juegos mas populares hoy en dia. Jugadores de todo el mundo pueden pasar el dia entero jugando sin perder el interes gracias a la amplia variedad de campeones, habilidades y objetos que le dan un giro unico a cada partida. Ciertamente, League of Legends esta creciendo exponencialmente dentro de la comunidad de \"gamers\" del mundo, y en latino america el juego tambien empieza a crecer en el ambito de eSports. \n",
    "\n",
    "El juego fue desarollado y lanzado por Riot Games en el 2009. Esta misma compañia se encarga de cualquier update o parche del juego, que es lo que realmente le da esa sensacion de cambio constante pero estable al juego. Cada parche cambian diferentes aspectos del mismo, por lo que en muchos casos los campeones y items varian indefinidamente entre partidas. \n",
    "\n",
    "\n",
    "### Como se gana?\n",
    "Es facil aprender a jugar LoL, pero definitvamente puede tomar meses o años el convertirse un maestro en el mismo. Este juego necesita tanto tener la estrategi necesaria como tener el las habilidades para poder asegurar la victoria. \n",
    "\n",
    "Cada partida consiste en dos equipos de 5 jugadores que son comunmente llamados equipo azul y equipo rojo. Cada equipo empieza en lados diferentes de un mapa simetrico llamado \"Grieta del Invocador\". Usualmente un juego puede tomar entre 30 y 40 minutos dependiendo de los jugadores. \n",
    "\n",
    "El proposito principal de este juego es destruir el Nexo enemigo, el cual durante la partida generara oleadas de \"subditos\" que ayudaran durante la partida. A cada uno de los 5 jugadores se le asigna un rol especifico en el juego entre los siguientes; soporte, carrilero central, carrilero superior, jungla y tirador. Cada rol tine diferentes objetivos y estrategias, pero la idea de tener estos roles es que el team tendra que trabajar como equipo y combinar sus fuerzas y debilidades para recorrer todo el mapa hasta llegar a destruir el nexo enemigo. \n",
    "\n",
    "La manera final de conseguir superioridad sobre el enemigo depende de los objetivos generales. Estos objetivos no son faciles de conseguir, por lo que cada objetivo completado usualmente resulta en una recompensa grande para el equipo o jugador. Por ejemplo, si se logra desterrar al Baron Nashor el equipo completo contara con estadisticas mas altas y con oleadas de subditos mas poderosas. Pero en contrapart, toma bastante tiempo alcanzar este objetivo, por lo que hay muchas partidas que se definen alrededor de este. \n",
    "\n",
    "Este solo es uno de los diferentes objetivos que pueden haber dentro del juego, asi que para que un equipo consiga todos los objetivos, este debera trabajar como un reloj para no solo conseguir todos los objetivos, sino tambien llegar al otro lado del mapa y destruir el Nexo enemigo. \n",
    "\n",
    "\n",
    "### Cuales son los objetivos de este proyecto?\n",
    "Debido a la profundidad y complejidad del juego, en muchas ocaciones puede ser dificil el determinar que equipo ganara hasta los ultimos minutos del juego, o usualmente esto es lo que se piensa. \n",
    "\n",
    "En realidad, jugadores profesionales de League of Legends pueden construir su propia ventaja competitiva en los primeros minutos del juego. Inlcuso antes de que empieze el juego debe de haber una estrategia, ya que en la fase de eleccion de campeones se pueden crear estrategias que guien el juego desde el principio.\n",
    "\n",
    "Pero la forma más confiable de asegurar una ventaja competitiva desde el comienzo del juego es completar los objetivos antes de que lo haga el equipo enemigo. De hecho, muchos juegos se deciden por decisiones tempranas del juego, lo que significa que en muchos casos se puede predecir el ganador del juego después de solo 10 minutos. Sé que esto puede parecer un poco exagerado, pero hoy demostraré cuánta diferencia e impacto tendrán los \"primeros\" eventos y objetivos en un juego. \n",
    "\n",
    "Estos elementos combinados pueden hacer que sea muy difícil para un humano predecir qué equipo saldrá victorioso, y es por eso que opte por ver si una máquina podría resolverlo.\n",
    "\n",
    "En resumen, intentare responder las siguientes preguntas: \n",
    "\n",
    "- ¿El lado del mapa en el cual cada equipo juega afecta el resultado del juego?\n",
    "- ¿Se puede predecir un ganador tomando en cuenta solo los \"primeros\" eventos del juego? \n",
    "- Es usable dentro del juego \n",
    "- ¿Es esto aplicable a juegos de eSports profesionales?\n",
    "\n",
    "### Como alcanzare esto?\n",
    "\n",
    "To find this, I will be using a few of the algorithms we used in class. I will be using a boosting model and a random tree model to predict the winning team based on the first objectives and based on the accuracy of each model I will be answering the questions stated before.\n",
    "\n",
    "\n"
   ]
  },
  {
   "cell_type": "markdown",
   "metadata": {},
   "source": [
    "# Data"
   ]
  },
  {
   "cell_type": "markdown",
   "metadata": {},
   "source": [
    "El dataset que usaremos para este proyecto fue encontrado en Kaggle con el nombre de \"(LoL) League of Legends Ranked Games Details from over 50,000 ranked games of LoL\". Esta data fue minada del API de Riot Games usando el Cassiopeia Wrap para Python 3. \n",
    "\n",
    "Es bastante facil obtener datos del API, pero el tiempo de descarga es bastante alto debido a toda la informacion que hay por partida. El dataset consta de 61 columnas con 51,490 observaciones. La alta cantidad de columnas es debido a que el dataset contiene informacion de los dos equipos. \n",
    "\n",
    "Para este proyecto usaremos las siguientes: \n",
    "\n",
    "- Game ID: El ID por partida que Riot Games asigna \n",
    "- Creation Time : La hora y fecha exacta en la que la partida fue creada. \n",
    "- Game Duration (en segundos): La mayoria de juegos no duraran menos de 15 minutos amenos que algun equipo tenga que rehacer la partida debido a un jugador faltante. \n",
    "- Season ID: La temporada en la que se jugo la partida\n",
    "- Winner: 1 = team1, 2 = team2, No pueden existir empates \n",
    "- First Baron, dragon, tower, blood, inhibitor and Rift Herald (1 = team1, 2 = team2, 0 = none): Especifica que equipo se quedo con el objetivo\n",
    "- Ccampeones y hechizos de invovador (Almacenados por el ID que Riot Games asigna): Describe que campeon y que hechizo de invocador se llevo en cada partidapor cada jugador \n",
    "- Cuantas torres, inhibidores, Barones, dragones y Heraldos: Especifica cuantos objetivos fueron tomados por cada uno de los equipos.\n",
    "- Los 5 baneos de cada equipo (Denuevo se usan los ID asignados para cada Campeon): En la fase de seleccion cada equipo puede banear 5 campeones, lo cual impide que dichos campeones sean usados por el otro equipo"
   ]
  },
  {
   "cell_type": "code",
   "execution_count": 3,
   "metadata": {
    "scrolled": true
   },
   "outputs": [
    {
     "data": {
      "text/html": [
       "<div>\n",
       "<style scoped>\n",
       "    .dataframe tbody tr th:only-of-type {\n",
       "        vertical-align: middle;\n",
       "    }\n",
       "\n",
       "    .dataframe tbody tr th {\n",
       "        vertical-align: top;\n",
       "    }\n",
       "\n",
       "    .dataframe thead th {\n",
       "        text-align: right;\n",
       "    }\n",
       "</style>\n",
       "<table border=\"1\" class=\"dataframe\">\n",
       "  <thead>\n",
       "    <tr style=\"text-align: right;\">\n",
       "      <th></th>\n",
       "      <th>gameId</th>\n",
       "      <th>creationTime</th>\n",
       "      <th>gameDuration</th>\n",
       "      <th>seasonId</th>\n",
       "      <th>winner</th>\n",
       "      <th>firstBlood</th>\n",
       "      <th>firstTower</th>\n",
       "      <th>firstInhibitor</th>\n",
       "      <th>firstBaron</th>\n",
       "      <th>firstDragon</th>\n",
       "      <th>...</th>\n",
       "      <th>t2_towerKills</th>\n",
       "      <th>t2_inhibitorKills</th>\n",
       "      <th>t2_baronKills</th>\n",
       "      <th>t2_dragonKills</th>\n",
       "      <th>t2_riftHeraldKills</th>\n",
       "      <th>t2_ban1</th>\n",
       "      <th>t2_ban2</th>\n",
       "      <th>t2_ban3</th>\n",
       "      <th>t2_ban4</th>\n",
       "      <th>t2_ban5</th>\n",
       "    </tr>\n",
       "  </thead>\n",
       "  <tbody>\n",
       "    <tr>\n",
       "      <th>0</th>\n",
       "      <td>3326086514</td>\n",
       "      <td>1504279457970</td>\n",
       "      <td>1949</td>\n",
       "      <td>9</td>\n",
       "      <td>blue</td>\n",
       "      <td>red</td>\n",
       "      <td>blue</td>\n",
       "      <td>blue</td>\n",
       "      <td>blue</td>\n",
       "      <td>blue</td>\n",
       "      <td>...</td>\n",
       "      <td>5</td>\n",
       "      <td>neither</td>\n",
       "      <td>neither</td>\n",
       "      <td>blue</td>\n",
       "      <td>blue</td>\n",
       "      <td>Fiora</td>\n",
       "      <td>Vayne</td>\n",
       "      <td>Karma</td>\n",
       "      <td>Soraka</td>\n",
       "      <td>Caitlyn</td>\n",
       "    </tr>\n",
       "    <tr>\n",
       "      <th>1</th>\n",
       "      <td>3229566029</td>\n",
       "      <td>1497848803862</td>\n",
       "      <td>1851</td>\n",
       "      <td>9</td>\n",
       "      <td>blue</td>\n",
       "      <td>blue</td>\n",
       "      <td>blue</td>\n",
       "      <td>blue</td>\n",
       "      <td>neither</td>\n",
       "      <td>blue</td>\n",
       "      <td>...</td>\n",
       "      <td>red</td>\n",
       "      <td>neither</td>\n",
       "      <td>neither</td>\n",
       "      <td>neither</td>\n",
       "      <td>neither</td>\n",
       "      <td>Master Yi</td>\n",
       "      <td>Vayne</td>\n",
       "      <td>Zed</td>\n",
       "      <td>Caitlyn</td>\n",
       "      <td>Illaoi</td>\n",
       "    </tr>\n",
       "    <tr>\n",
       "      <th>2</th>\n",
       "      <td>3327363504</td>\n",
       "      <td>1504360103310</td>\n",
       "      <td>1493</td>\n",
       "      <td>9</td>\n",
       "      <td>blue</td>\n",
       "      <td>red</td>\n",
       "      <td>blue</td>\n",
       "      <td>blue</td>\n",
       "      <td>blue</td>\n",
       "      <td>red</td>\n",
       "      <td>...</td>\n",
       "      <td>red</td>\n",
       "      <td>neither</td>\n",
       "      <td>neither</td>\n",
       "      <td>blue</td>\n",
       "      <td>neither</td>\n",
       "      <td>Yasuo</td>\n",
       "      <td>Zed</td>\n",
       "      <td>Kha'Zix</td>\n",
       "      <td>Maokai</td>\n",
       "      <td>Evelynn</td>\n",
       "    </tr>\n",
       "    <tr>\n",
       "      <th>3</th>\n",
       "      <td>3326856598</td>\n",
       "      <td>1504348503996</td>\n",
       "      <td>1758</td>\n",
       "      <td>9</td>\n",
       "      <td>blue</td>\n",
       "      <td>blue</td>\n",
       "      <td>blue</td>\n",
       "      <td>blue</td>\n",
       "      <td>blue</td>\n",
       "      <td>blue</td>\n",
       "      <td>...</td>\n",
       "      <td>neither</td>\n",
       "      <td>neither</td>\n",
       "      <td>neither</td>\n",
       "      <td>neither</td>\n",
       "      <td>neither</td>\n",
       "      <td>Camille</td>\n",
       "      <td>Tristana</td>\n",
       "      <td>Kayn</td>\n",
       "      <td>Janna</td>\n",
       "      <td>Caitlyn</td>\n",
       "    </tr>\n",
       "    <tr>\n",
       "      <th>4</th>\n",
       "      <td>3330080762</td>\n",
       "      <td>1504554410899</td>\n",
       "      <td>2094</td>\n",
       "      <td>9</td>\n",
       "      <td>blue</td>\n",
       "      <td>red</td>\n",
       "      <td>blue</td>\n",
       "      <td>blue</td>\n",
       "      <td>blue</td>\n",
       "      <td>blue</td>\n",
       "      <td>...</td>\n",
       "      <td>3</td>\n",
       "      <td>neither</td>\n",
       "      <td>neither</td>\n",
       "      <td>blue</td>\n",
       "      <td>neither</td>\n",
       "      <td>Garen</td>\n",
       "      <td>Master Yi</td>\n",
       "      <td>Braum</td>\n",
       "      <td>Darius</td>\n",
       "      <td>Tristana</td>\n",
       "    </tr>\n",
       "  </tbody>\n",
       "</table>\n",
       "<p>5 rows × 61 columns</p>\n",
       "</div>"
      ],
      "text/plain": [
       "       gameId   creationTime  gameDuration  seasonId winner firstBlood  \\\n",
       "0  3326086514  1504279457970          1949         9   blue        red   \n",
       "1  3229566029  1497848803862          1851         9   blue       blue   \n",
       "2  3327363504  1504360103310          1493         9   blue        red   \n",
       "3  3326856598  1504348503996          1758         9   blue       blue   \n",
       "4  3330080762  1504554410899          2094         9   blue        red   \n",
       "\n",
       "  firstTower firstInhibitor firstBaron firstDragon    ...    t2_towerKills  \\\n",
       "0       blue           blue       blue        blue    ...                5   \n",
       "1       blue           blue    neither        blue    ...              red   \n",
       "2       blue           blue       blue         red    ...              red   \n",
       "3       blue           blue       blue        blue    ...          neither   \n",
       "4       blue           blue       blue        blue    ...                3   \n",
       "\n",
       "  t2_inhibitorKills t2_baronKills t2_dragonKills t2_riftHeraldKills  \\\n",
       "0           neither       neither           blue               blue   \n",
       "1           neither       neither        neither            neither   \n",
       "2           neither       neither           blue            neither   \n",
       "3           neither       neither        neither            neither   \n",
       "4           neither       neither           blue            neither   \n",
       "\n",
       "     t2_ban1    t2_ban2  t2_ban3  t2_ban4   t2_ban5  \n",
       "0      Fiora      Vayne    Karma   Soraka   Caitlyn  \n",
       "1  Master Yi      Vayne      Zed  Caitlyn    Illaoi  \n",
       "2      Yasuo        Zed  Kha'Zix   Maokai   Evelynn  \n",
       "3    Camille   Tristana     Kayn    Janna   Caitlyn  \n",
       "4      Garen  Master Yi    Braum   Darius  Tristana  \n",
       "\n",
       "[5 rows x 61 columns]"
      ]
     },
     "execution_count": 3,
     "metadata": {},
     "output_type": "execute_result"
    }
   ],
   "source": [
    "df = pd.read_csv('Clean_LeagueOfLegends.csv')\n",
    "df = df.drop(columns = ['Unnamed: 0'])\n",
    "df.head()"
   ]
  },
  {
   "cell_type": "code",
   "execution_count": 4,
   "metadata": {},
   "outputs": [],
   "source": [
    "\n",
    "\n",
    "def idToName(ID, dic):\n",
    "    '''\n",
    "    ID: champion ID as listed in original dataframe\n",
    "    dic: champInfo from json, defined above\n",
    "\n",
    "    used to convert ID's to champion names\n",
    "    '''\n",
    "    champ = dic['name'][ID]\n",
    "    return champ    \n",
    "\n",
    "def CountFrequency(my_list): \n",
    "  \n",
    "    # Creating an empty dictionary  \n",
    "    freq = {} \n",
    "    for item in my_list: \n",
    "        if (item in freq): \n",
    "            freq[item] += 1\n",
    "        else: \n",
    "            freq[item] = 1\n",
    "  \n",
    "    for key, value in freq.items(): \n",
    "        print (\"% s : % d\"%(key, value)) \n",
    "  "
   ]
  },
  {
   "cell_type": "markdown",
   "metadata": {},
   "source": [
    "## Prioridades por Equipo (Azul o Rojo)"
   ]
  },
  {
   "cell_type": "markdown",
   "metadata": {},
   "source": [
    "Intentaremos encontrar al equipo ganador al final del juego en función de los primeros objetivos. Debido a esto, tenía que asegurarme de que las columnas fueran exactamente como las necesitaba, así que hice algunos cambios para que fuera más fácil agregar esta información a los modelos."
   ]
  },
  {
   "cell_type": "code",
   "execution_count": 5,
   "metadata": {},
   "outputs": [
    {
     "data": {
      "text/html": [
       "<div>\n",
       "<style scoped>\n",
       "    .dataframe tbody tr th:only-of-type {\n",
       "        vertical-align: middle;\n",
       "    }\n",
       "\n",
       "    .dataframe tbody tr th {\n",
       "        vertical-align: top;\n",
       "    }\n",
       "\n",
       "    .dataframe thead th {\n",
       "        text-align: right;\n",
       "    }\n",
       "</style>\n",
       "<table border=\"1\" class=\"dataframe\">\n",
       "  <thead>\n",
       "    <tr style=\"text-align: right;\">\n",
       "      <th></th>\n",
       "      <th>gameId</th>\n",
       "      <th>creationTime</th>\n",
       "      <th>gameDuration</th>\n",
       "      <th>seasonId</th>\n",
       "      <th>winner</th>\n",
       "      <th>firstBlood</th>\n",
       "      <th>firstTower</th>\n",
       "      <th>firstInhibitor</th>\n",
       "      <th>firstBaron</th>\n",
       "      <th>firstDragon</th>\n",
       "      <th>...</th>\n",
       "      <th>t2_towerKills</th>\n",
       "      <th>t2_inhibitorKills</th>\n",
       "      <th>t2_baronKills</th>\n",
       "      <th>t2_dragonKills</th>\n",
       "      <th>t2_riftHeraldKills</th>\n",
       "      <th>t2_ban1</th>\n",
       "      <th>t2_ban2</th>\n",
       "      <th>t2_ban3</th>\n",
       "      <th>t2_ban4</th>\n",
       "      <th>t2_ban5</th>\n",
       "    </tr>\n",
       "  </thead>\n",
       "  <tbody>\n",
       "    <tr>\n",
       "      <th>0</th>\n",
       "      <td>3326086514</td>\n",
       "      <td>1504279457970</td>\n",
       "      <td>1949</td>\n",
       "      <td>9</td>\n",
       "      <td>1</td>\n",
       "      <td>red</td>\n",
       "      <td>blue</td>\n",
       "      <td>blue</td>\n",
       "      <td>blue</td>\n",
       "      <td>blue</td>\n",
       "      <td>...</td>\n",
       "      <td>5</td>\n",
       "      <td>neither</td>\n",
       "      <td>neither</td>\n",
       "      <td>blue</td>\n",
       "      <td>blue</td>\n",
       "      <td>Fiora</td>\n",
       "      <td>Vayne</td>\n",
       "      <td>Karma</td>\n",
       "      <td>Soraka</td>\n",
       "      <td>Caitlyn</td>\n",
       "    </tr>\n",
       "    <tr>\n",
       "      <th>1</th>\n",
       "      <td>3229566029</td>\n",
       "      <td>1497848803862</td>\n",
       "      <td>1851</td>\n",
       "      <td>9</td>\n",
       "      <td>1</td>\n",
       "      <td>blue</td>\n",
       "      <td>blue</td>\n",
       "      <td>blue</td>\n",
       "      <td>neither</td>\n",
       "      <td>blue</td>\n",
       "      <td>...</td>\n",
       "      <td>red</td>\n",
       "      <td>neither</td>\n",
       "      <td>neither</td>\n",
       "      <td>neither</td>\n",
       "      <td>neither</td>\n",
       "      <td>Master Yi</td>\n",
       "      <td>Vayne</td>\n",
       "      <td>Zed</td>\n",
       "      <td>Caitlyn</td>\n",
       "      <td>Illaoi</td>\n",
       "    </tr>\n",
       "    <tr>\n",
       "      <th>2</th>\n",
       "      <td>3327363504</td>\n",
       "      <td>1504360103310</td>\n",
       "      <td>1493</td>\n",
       "      <td>9</td>\n",
       "      <td>1</td>\n",
       "      <td>red</td>\n",
       "      <td>blue</td>\n",
       "      <td>blue</td>\n",
       "      <td>blue</td>\n",
       "      <td>red</td>\n",
       "      <td>...</td>\n",
       "      <td>red</td>\n",
       "      <td>neither</td>\n",
       "      <td>neither</td>\n",
       "      <td>blue</td>\n",
       "      <td>neither</td>\n",
       "      <td>Yasuo</td>\n",
       "      <td>Zed</td>\n",
       "      <td>Kha'Zix</td>\n",
       "      <td>Maokai</td>\n",
       "      <td>Evelynn</td>\n",
       "    </tr>\n",
       "    <tr>\n",
       "      <th>3</th>\n",
       "      <td>3326856598</td>\n",
       "      <td>1504348503996</td>\n",
       "      <td>1758</td>\n",
       "      <td>9</td>\n",
       "      <td>1</td>\n",
       "      <td>blue</td>\n",
       "      <td>blue</td>\n",
       "      <td>blue</td>\n",
       "      <td>blue</td>\n",
       "      <td>blue</td>\n",
       "      <td>...</td>\n",
       "      <td>neither</td>\n",
       "      <td>neither</td>\n",
       "      <td>neither</td>\n",
       "      <td>neither</td>\n",
       "      <td>neither</td>\n",
       "      <td>Camille</td>\n",
       "      <td>Tristana</td>\n",
       "      <td>Kayn</td>\n",
       "      <td>Janna</td>\n",
       "      <td>Caitlyn</td>\n",
       "    </tr>\n",
       "    <tr>\n",
       "      <th>4</th>\n",
       "      <td>3330080762</td>\n",
       "      <td>1504554410899</td>\n",
       "      <td>2094</td>\n",
       "      <td>9</td>\n",
       "      <td>1</td>\n",
       "      <td>red</td>\n",
       "      <td>blue</td>\n",
       "      <td>blue</td>\n",
       "      <td>blue</td>\n",
       "      <td>blue</td>\n",
       "      <td>...</td>\n",
       "      <td>3</td>\n",
       "      <td>neither</td>\n",
       "      <td>neither</td>\n",
       "      <td>blue</td>\n",
       "      <td>neither</td>\n",
       "      <td>Garen</td>\n",
       "      <td>Master Yi</td>\n",
       "      <td>Braum</td>\n",
       "      <td>Darius</td>\n",
       "      <td>Tristana</td>\n",
       "    </tr>\n",
       "  </tbody>\n",
       "</table>\n",
       "<p>5 rows × 61 columns</p>\n",
       "</div>"
      ],
      "text/plain": [
       "       gameId   creationTime  gameDuration  seasonId  winner firstBlood  \\\n",
       "0  3326086514  1504279457970          1949         9       1        red   \n",
       "1  3229566029  1497848803862          1851         9       1       blue   \n",
       "2  3327363504  1504360103310          1493         9       1        red   \n",
       "3  3326856598  1504348503996          1758         9       1       blue   \n",
       "4  3330080762  1504554410899          2094         9       1        red   \n",
       "\n",
       "  firstTower firstInhibitor firstBaron firstDragon    ...    t2_towerKills  \\\n",
       "0       blue           blue       blue        blue    ...                5   \n",
       "1       blue           blue    neither        blue    ...              red   \n",
       "2       blue           blue       blue         red    ...              red   \n",
       "3       blue           blue       blue        blue    ...          neither   \n",
       "4       blue           blue       blue        blue    ...                3   \n",
       "\n",
       "  t2_inhibitorKills t2_baronKills t2_dragonKills t2_riftHeraldKills  \\\n",
       "0           neither       neither           blue               blue   \n",
       "1           neither       neither        neither            neither   \n",
       "2           neither       neither           blue            neither   \n",
       "3           neither       neither        neither            neither   \n",
       "4           neither       neither           blue            neither   \n",
       "\n",
       "     t2_ban1    t2_ban2  t2_ban3  t2_ban4   t2_ban5  \n",
       "0      Fiora      Vayne    Karma   Soraka   Caitlyn  \n",
       "1  Master Yi      Vayne      Zed  Caitlyn    Illaoi  \n",
       "2      Yasuo        Zed  Kha'Zix   Maokai   Evelynn  \n",
       "3    Camille   Tristana     Kayn    Janna   Caitlyn  \n",
       "4      Garen  Master Yi    Braum   Darius  Tristana  \n",
       "\n",
       "[5 rows x 61 columns]"
      ]
     },
     "execution_count": 5,
     "metadata": {},
     "output_type": "execute_result"
    }
   ],
   "source": [
    "dataClean = df.replace([0,1,2],['neither','blue','red'])\n",
    "dataClean[\"winner\"]= dataClean[\"winner\"].map({'neither':0,'blue':1,'red':2})\n",
    "dataClean.head()"
   ]
  },
  {
   "cell_type": "markdown",
   "metadata": {},
   "source": [
    "Como se puede ver en la parte de procesamiento de datos de este proyecto, una vez que comenzó el juego, cada equipo buscó el primer resultado que se pudo obtener; la \"primera sangre\". Como se puede ver en la tabla a continuación, hay 555 juegos en los que no hubo una primera sangre, y esto se debe a que esos juegos seguramente fueron un remake. Hay una rara posibilidad de que un juego realmente se haya llevado a cabo sin una sola muerte, pero para ser honesto, eso solo sucedería si ambos equipos se desafiaran mutuamente para no matarse entre sí o si el juego simplemente fallara y no contara las muertes, Pero ambos escenarios son extremadamente raros."
   ]
  },
  {
   "cell_type": "code",
   "execution_count": 6,
   "metadata": {},
   "outputs": [
    {
     "data": {
      "text/html": [
       "<div>\n",
       "<style scoped>\n",
       "    .dataframe tbody tr th:only-of-type {\n",
       "        vertical-align: middle;\n",
       "    }\n",
       "\n",
       "    .dataframe tbody tr th {\n",
       "        vertical-align: top;\n",
       "    }\n",
       "\n",
       "    .dataframe thead th {\n",
       "        text-align: right;\n",
       "    }\n",
       "</style>\n",
       "<table border=\"1\" class=\"dataframe\">\n",
       "  <thead>\n",
       "    <tr style=\"text-align: right;\">\n",
       "      <th></th>\n",
       "      <th>firstBlood</th>\n",
       "      <th>firstTower</th>\n",
       "      <th>firstInhibitor</th>\n",
       "      <th>firstBaron</th>\n",
       "      <th>firstDragon</th>\n",
       "      <th>firstRiftHerald</th>\n",
       "    </tr>\n",
       "  </thead>\n",
       "  <tbody>\n",
       "    <tr>\n",
       "      <th>blue</th>\n",
       "      <td>26113</td>\n",
       "      <td>25861</td>\n",
       "      <td>23054</td>\n",
       "      <td>14758</td>\n",
       "      <td>24690</td>\n",
       "      <td>12948</td>\n",
       "    </tr>\n",
       "    <tr>\n",
       "      <th>red</th>\n",
       "      <td>24822</td>\n",
       "      <td>24416</td>\n",
       "      <td>22160</td>\n",
       "      <td>16474</td>\n",
       "      <td>24800</td>\n",
       "      <td>12363</td>\n",
       "    </tr>\n",
       "    <tr>\n",
       "      <th>neither</th>\n",
       "      <td>555</td>\n",
       "      <td>1213</td>\n",
       "      <td>6276</td>\n",
       "      <td>20258</td>\n",
       "      <td>2000</td>\n",
       "      <td>26179</td>\n",
       "    </tr>\n",
       "  </tbody>\n",
       "</table>\n",
       "</div>"
      ],
      "text/plain": [
       "         firstBlood  firstTower  firstInhibitor  firstBaron  firstDragon  \\\n",
       "blue          26113       25861           23054       14758        24690   \n",
       "red           24822       24416           22160       16474        24800   \n",
       "neither         555        1213            6276       20258         2000   \n",
       "\n",
       "         firstRiftHerald  \n",
       "blue               12948  \n",
       "red                12363  \n",
       "neither            26179  "
      ]
     },
     "execution_count": 6,
     "metadata": {},
     "output_type": "execute_result"
    }
   ],
   "source": [
    "firsts = ['firstBlood','firstTower', 'firstInhibitor', 'firstBaron', 'firstDragon', 'firstRiftHerald']\n",
    "firstTotals = dataClean[firsts].apply(pd.value_counts)\n",
    "newIndex = ['blue','red','neither']\n",
    "firstSort = firstTotals.reindex(index=newIndex)\n",
    "firstSort"
   ]
  },
  {
   "cell_type": "markdown",
   "metadata": {},
   "source": [
    "# Metodos"
   ]
  },
  {
   "cell_type": "code",
   "execution_count": 7,
   "metadata": {},
   "outputs": [],
   "source": [
    "data_sub = dataClean[['gameDuration','winner','firstBlood', 'firstTower', 'firstInhibitor', 'firstBaron',\n",
    "       'firstDragon', 'firstRiftHerald']]"
   ]
  },
  {
   "cell_type": "code",
   "execution_count": 8,
   "metadata": {},
   "outputs": [
    {
     "name": "stderr",
     "output_type": "stream",
     "text": [
      "D:\\Anaonda\\lib\\site-packages\\pandas\\core\\frame.py:3697: SettingWithCopyWarning: \n",
      "A value is trying to be set on a copy of a slice from a DataFrame\n",
      "\n",
      "See the caveats in the documentation: http://pandas.pydata.org/pandas-docs/stable/indexing.html#indexing-view-versus-copy\n",
      "  errors=errors)\n"
     ]
    }
   ],
   "source": [
    "y = data_sub['winner']\n",
    "data_sub.drop(axis=1, labels='winner', inplace=True)\n",
    "import warnings\n",
    "warnings.filterwarnings('ignore')"
   ]
  },
  {
   "cell_type": "code",
   "execution_count": 9,
   "metadata": {},
   "outputs": [],
   "source": [
    "yc = dataClean[\"t1_towerKills\"]"
   ]
  },
  {
   "cell_type": "code",
   "execution_count": 10,
   "metadata": {},
   "outputs": [],
   "source": [
    "data_category = data_sub.select_dtypes(object).astype('category')\n",
    "data_category = pd.get_dummies(data_category)\n",
    "data_numeric = data_sub.select_dtypes(exclude='object')\n",
    "data_final = data_category.join(data_numeric)"
   ]
  },
  {
   "cell_type": "code",
   "execution_count": 11,
   "metadata": {},
   "outputs": [],
   "source": [
    "X_train, X_test, y_train, y_test = train_test_split(data_final, y, test_size=0.30, random_state=100)\n",
    "Xc_train, Xc_test, yc_train, yc_test = train_test_split(data_final, yc, test_size=0.30, random_state=100)"
   ]
  },
  {
   "cell_type": "markdown",
   "metadata": {},
   "source": [
    "## Regression Lineal"
   ]
  },
  {
   "cell_type": "markdown",
   "metadata": {},
   "source": [
    "La regresión lineal es un tipo de análisis predictivo básico y comúnmente utilizado que generalmente funciona en datos continuos. Es genial cuando no hay muchas variables correlacionadas, ya que podrá analizar una sola variable a la vez.\n",
    "\n",
    "**Ventajas de una regresión lineal**\n",
    "\n",
    "- fácil de implementar pero potente \n",
    "- los resultados se explican fácilmente \n",
    "\n",
    "**Desventajas de una regresión lineal**\n",
    "\n",
    "- no se pueden modelar relaciones más complejas entre los datos\n",
    "- muy afectados por los valores atípicos: \n",
    "- es no muy robusto \n",
    "\n",
    "## **¿Cómo funciona una regresión lineal para mi conjunto de datos?** \n",
    "Bueno, como puede ver por los resultados de R Squared, una regresión lineal simple definitivamente no es un buen ajuste para lo que estoy buscando. La baja R cuadrada sugiere que mis datos son un poco más complejos, por lo que necesitaría un modelo más robusto, como una regresión polinomial."
   ]
  },
  {
   "cell_type": "code",
   "execution_count": 12,
   "metadata": {},
   "outputs": [],
   "source": [
    "X_train = sm.add_constant(X_train)\n",
    "simple_model = sm.OLS(y_train,X_train[['firstInhibitor_red', 'const']])\n",
    "simple_result = simple_model.fit()\n"
   ]
  },
  {
   "cell_type": "code",
   "execution_count": 13,
   "metadata": {},
   "outputs": [
    {
     "name": "stdout",
     "output_type": "stream",
     "text": [
      "                            OLS Regression Results                            \n",
      "==============================================================================\n",
      "Dep. Variable:                 winner   R-squared:                       0.533\n",
      "Model:                            OLS   Adj. R-squared:                  0.533\n",
      "Method:                 Least Squares   F-statistic:                 4.113e+04\n",
      "Date:                Thu, 16 May 2019   Prob (F-statistic):               0.00\n",
      "Time:                        13:51:38   Log-Likelihood:                -12437.\n",
      "No. Observations:               36043   AIC:                         2.488e+04\n",
      "Df Residuals:                   36041   BIC:                         2.489e+04\n",
      "Df Model:                           1                                         \n",
      "Covariance Type:            nonrobust                                         \n",
      "======================================================================================\n",
      "                         coef    std err          t      P>|t|      [0.025      0.975]\n",
      "--------------------------------------------------------------------------------------\n",
      "firstInhibitor_red     0.7370      0.004    202.805      0.000       0.730       0.744\n",
      "const                  1.1770      0.002    493.083      0.000       1.172       1.182\n",
      "==============================================================================\n",
      "Omnibus:                     4023.435   Durbin-Watson:                   1.995\n",
      "Prob(Omnibus):                  0.000   Jarque-Bera (JB):            10540.097\n",
      "Skew:                           0.637   Prob(JB):                         0.00\n",
      "Kurtosis:                       5.323   Cond. No.                         2.49\n",
      "==============================================================================\n",
      "\n",
      "Warnings:\n",
      "[1] Standard Errors assume that the covariance matrix of the errors is correctly specified.\n"
     ]
    }
   ],
   "source": [
    "\n",
    "X_test = sm.add_constant(X_test)\n",
    "y_pred_simple = simple_result.predict(X_test[['firstInhibitor_red', 'const']])\n",
    "print(simple_result.summary())\n"
   ]
  },
  {
   "cell_type": "markdown",
   "metadata": {},
   "source": [
    "## Regresion Polinomial \n"
   ]
  },
  {
   "cell_type": "markdown",
   "metadata": {},
   "source": [
    "Cuando dos variables están fuertemente correlacionadas y no tienen una relación lineal, una regresión polinomial puede ser la mejor opción. Sobre todo porque este modelo se adaptará a la flexibilidad y complejidad del conjunto de datos y devolverá un mayor R al cuadrado.\n",
    "\n",
    "**Ventajas de usar la Regresión Polinomial**\n",
    "- Polinomio proporciona la mejor aproximación de la relación entre la variable dependiente e independiente. \n",
    "- Se puede ajustar una amplia gama de funciones debajo de ella. \n",
    "- El polinomio se ajusta básicamente a una amplia gama de curvatura. \n",
    "\n",
    "**Desventajas de usar la Regresión Polinomial** \n",
    "- La presencia de uno o dos valores atípicos en los datos puede afectar seriamente los resultados del análisis no lineal. \n",
    "- Además, desafortunadamente hay menos herramientas de validación de modelos para la detección de valores atípicos en la regresión no lineal que para la regresión lineal. \n",
    "\n",
    "### **¿Cómo ayudó la regresión polinomial a mis resultados?**\n",
    "Bueno, al principio no se puede ver una diferencia significativa entre la regresión lineal y la polinómica. Al menos una regresión de tercer grado mostró una mayor adaptación a los datos, como se puede ver en los gráficos. Sin embargo, no hay una diferencia significativa entre la R cuadrada de las regresiones lineales y polinómicas. Pero fue esta regresión la que demostro la colinealidad entre las variables que estoy tratando de predecir. Debido a esto, tuve que adoptar un enfoque diferente al problema."
   ]
  },
  {
   "cell_type": "code",
   "execution_count": 14,
   "metadata": {},
   "outputs": [],
   "source": [
    "poly_reg = PolynomialFeatures(degree = 3)\n",
    "X_poly_train = poly_reg.fit_transform(pd.DataFrame(X_train['firstInhibitor_red']))\n",
    "X_poly_test = poly_reg.fit_transform(pd.DataFrame(X_test['firstInhibitor_red']))\n",
    "poly_result = poly_reg.fit(X_poly_train, y_train)\n",
    "poly_model = LinearRegression()\n",
    "poly_result = poly_model.fit(X_poly_train, y_train)\n",
    "y_poly_pred = poly_model.predict(X_poly_test)"
   ]
  },
  {
   "cell_type": "code",
   "execution_count": 15,
   "metadata": {},
   "outputs": [
    {
     "name": "stdout",
     "output_type": "stream",
     "text": [
      "                            OLS Regression Results                            \n",
      "==============================================================================\n",
      "Dep. Variable:                 winner   R-squared:                       0.533\n",
      "Model:                            OLS   Adj. R-squared:                  0.533\n",
      "Method:                 Least Squares   F-statistic:                 4.113e+04\n",
      "Date:                Thu, 16 May 2019   Prob (F-statistic):               0.00\n",
      "Time:                        13:51:38   Log-Likelihood:                -12437.\n",
      "No. Observations:               36043   AIC:                         2.488e+04\n",
      "Df Residuals:                   36041   BIC:                         2.489e+04\n",
      "Df Model:                           1                                         \n",
      "Covariance Type:            nonrobust                                         \n",
      "==============================================================================\n",
      "                 coef    std err          t      P>|t|      [0.025      0.975]\n",
      "------------------------------------------------------------------------------\n",
      "const          1.1770      0.002    493.083      0.000       1.172       1.182\n",
      "x1             0.2457      0.001    202.805      0.000       0.243       0.248\n",
      "x2             0.2457      0.001    202.805      0.000       0.243       0.248\n",
      "x3             0.2457      0.001    202.805      0.000       0.243       0.248\n",
      "==============================================================================\n",
      "Omnibus:                     4023.435   Durbin-Watson:                   1.995\n",
      "Prob(Omnibus):                  0.000   Jarque-Bera (JB):            10540.097\n",
      "Skew:                           0.637   Prob(JB):                         0.00\n",
      "Kurtosis:                       5.323   Cond. No.                     4.86e+32\n",
      "==============================================================================\n",
      "\n",
      "Warnings:\n",
      "[1] Standard Errors assume that the covariance matrix of the errors is correctly specified.\n",
      "[2] The smallest eigenvalue is 2.91e-61. This might indicate that there are\n",
      "strong multicollinearity problems or that the design matrix is singular.\n"
     ]
    }
   ],
   "source": [
    "poly_model = sm.OLS(y_train,X_poly_train)\n",
    "poly_result = poly_model.fit()\n",
    "print(poly_result.summary())\n"
   ]
  },
  {
   "cell_type": "markdown",
   "metadata": {},
   "source": [
    "Ridge Regression es teóricamente más valiosa cuando se usa para contrarrestar el efecto de la colinealidad. \n",
    "## **Ventajas de la regresión de Ridge**\n",
    "- la regresión de Ridge se puede utilizar para abordar los problemas que se producirían cuando las variables son colineales \n",
    "- La regresión hace un buen trabajo al optimizar dichos modelos porque exagerará las variables correlacionadas: el modelo querrá optimizar para tales variables más, y para las variables independientes que proporcionan información realmente única \n",
    "\n",
    "### **¿Cómo ayudó la Ridge Regression a mis resultados?** \n",
    "Dado que las variables colineales no son fáciles de manejar por sí mismas ya que ambas básicamente me dan la misma información, ridge regression me ayudará a normalizar los datos para que sea más fácil de manejar. \n",
    "\n",
    "Ridge Regression no nos da sparcity, por lo que es una mejor opción en comparación con la regresión de lazo.Teniendo en cuenta la complejidad del conjunto de datos y las variables colineales, es posible que el modelo no sea tan malo para predicciones como pensabamos ya que el accuracy para esta regresion es de aproximadamente 63%"
   ]
  },
  {
   "cell_type": "code",
   "execution_count": 16,
   "metadata": {},
   "outputs": [
    {
     "name": "stdout",
     "output_type": "stream",
     "text": [
      "Ridge Regression Train Score low alpha: 0.6337280585590108\n",
      "Ridge Regression Test Score low alpha: 0.6336606834823113\n"
     ]
    }
   ],
   "source": [
    "from sklearn.linear_model import Ridge\n",
    "rr = Ridge(alpha=0.01) # higher the alpha value, more restriction on the coefficients; low alpha > more generalization, coefficients are barely\n",
    "# restricted and in this case linear and ridge regression resembles\n",
    "rr = rr.fit(X_train, y_train)\n",
    "Ridge_train_score = rr.score(X_train,y_train)\n",
    "Ridge_test_score = rr.score(X_test, y_test)\n",
    "print (\"Ridge Regression Train Score low alpha:\", Ridge_train_score)\n",
    "print (\"Ridge Regression Test Score low alpha:\", Ridge_test_score)\n"
   ]
  },
  {
   "cell_type": "markdown",
   "metadata": {},
   "source": [
    "## Boosting "
   ]
  },
  {
   "cell_type": "markdown",
   "metadata": {},
   "source": [
    "Como el primer método que usaré para resolver este problema, usaré un método de Boosting ya que tengo una gran cantidad de datos y hay muchos casos en los que un modelo de Boosting se beneficiará de la gran cantidad de datos. \n",
    "\n",
    "El término \"boosting\" se refiere a una familia de algoritmos que convierte al aprendiz débil en aprendices fuertes. El boosting es un método conjunto para mejorar las predicciones del modelo de cualquier algoritmo de aprendizaje dado. \n",
    "\n",
    "La idea de el boosting es entrenar a los conjuntos débiles de forma secuencial, cada uno tratando de corregir a su predecesor.\n",
    "\n",
    "Aún así, hay algunos inconvenientes que vienen con este método, pero aún así no afectaron tanto a mi modelo, por lo que todavía podría usarlo.\n",
    "\n",
    "Algunos de estos inconvenientes son: \n",
    "\n",
    "- Es mas dificil calibrar comparado con otros modelos ya que hay tantos hiperparametros que operar que puede haber mas probabilidadde un overfit\n",
    "\n",
    "- No es tan facil interpretarlo comparado con clasificadores lineares y regressiones. \n",
    "\n",
    "- Toma bastante tiempo en entrenar y calificar\n",
    "\n",
    "En este caso se crear diferentes dummies para diferentes variables para que fuera un poco menos complicado poder crear los modelos. Ademas muchos de los valores estaban como texto de \"red\" o \"blue\". "
   ]
  },
  {
   "cell_type": "code",
   "execution_count": 17,
   "metadata": {},
   "outputs": [],
   "source": [
    "data_sub = dataClean[['gameDuration','winner','firstBlood', 'firstTower', 'firstInhibitor', 'firstBaron',\n",
    "       'firstDragon', 'firstRiftHerald']]\n"
   ]
  },
  {
   "cell_type": "code",
   "execution_count": 18,
   "metadata": {},
   "outputs": [],
   "source": [
    "y = data_sub['winner']\n",
    "data_sub.drop(axis=1, labels='winner', inplace=True)\n",
    "import warnings\n",
    "warnings.filterwarnings('ignore')"
   ]
  },
  {
   "cell_type": "code",
   "execution_count": 19,
   "metadata": {},
   "outputs": [],
   "source": [
    "yc = dataClean[\"t1_towerKills\"]"
   ]
  },
  {
   "cell_type": "code",
   "execution_count": 20,
   "metadata": {},
   "outputs": [],
   "source": [
    "data_category = data_sub.select_dtypes(object).astype('category')"
   ]
  },
  {
   "cell_type": "code",
   "execution_count": 21,
   "metadata": {},
   "outputs": [],
   "source": [
    "data_category = pd.get_dummies(data_category)"
   ]
  },
  {
   "cell_type": "code",
   "execution_count": 22,
   "metadata": {},
   "outputs": [],
   "source": [
    "data_numeric = data_sub.select_dtypes(exclude='object')"
   ]
  },
  {
   "cell_type": "code",
   "execution_count": 23,
   "metadata": {},
   "outputs": [],
   "source": [
    "data_final = data_category.join(data_numeric)"
   ]
  },
  {
   "cell_type": "code",
   "execution_count": 24,
   "metadata": {},
   "outputs": [
    {
     "data": {
      "text/html": [
       "<div>\n",
       "<style scoped>\n",
       "    .dataframe tbody tr th:only-of-type {\n",
       "        vertical-align: middle;\n",
       "    }\n",
       "\n",
       "    .dataframe tbody tr th {\n",
       "        vertical-align: top;\n",
       "    }\n",
       "\n",
       "    .dataframe thead th {\n",
       "        text-align: right;\n",
       "    }\n",
       "</style>\n",
       "<table border=\"1\" class=\"dataframe\">\n",
       "  <thead>\n",
       "    <tr style=\"text-align: right;\">\n",
       "      <th></th>\n",
       "      <th>firstBlood_blue</th>\n",
       "      <th>firstBlood_neither</th>\n",
       "      <th>firstBlood_red</th>\n",
       "      <th>firstTower_blue</th>\n",
       "      <th>firstTower_neither</th>\n",
       "      <th>firstTower_red</th>\n",
       "      <th>firstInhibitor_blue</th>\n",
       "      <th>firstInhibitor_neither</th>\n",
       "      <th>firstInhibitor_red</th>\n",
       "      <th>firstBaron_blue</th>\n",
       "      <th>firstBaron_neither</th>\n",
       "      <th>firstBaron_red</th>\n",
       "      <th>firstDragon_blue</th>\n",
       "      <th>firstDragon_neither</th>\n",
       "      <th>firstDragon_red</th>\n",
       "      <th>firstRiftHerald_blue</th>\n",
       "      <th>firstRiftHerald_neither</th>\n",
       "      <th>firstRiftHerald_red</th>\n",
       "      <th>gameDuration</th>\n",
       "    </tr>\n",
       "  </thead>\n",
       "  <tbody>\n",
       "    <tr>\n",
       "      <th>51485</th>\n",
       "      <td>1</td>\n",
       "      <td>0</td>\n",
       "      <td>0</td>\n",
       "      <td>0</td>\n",
       "      <td>0</td>\n",
       "      <td>1</td>\n",
       "      <td>0</td>\n",
       "      <td>0</td>\n",
       "      <td>1</td>\n",
       "      <td>0</td>\n",
       "      <td>1</td>\n",
       "      <td>0</td>\n",
       "      <td>0</td>\n",
       "      <td>0</td>\n",
       "      <td>1</td>\n",
       "      <td>0</td>\n",
       "      <td>1</td>\n",
       "      <td>0</td>\n",
       "      <td>1944</td>\n",
       "    </tr>\n",
       "    <tr>\n",
       "      <th>51486</th>\n",
       "      <td>1</td>\n",
       "      <td>0</td>\n",
       "      <td>0</td>\n",
       "      <td>1</td>\n",
       "      <td>0</td>\n",
       "      <td>0</td>\n",
       "      <td>0</td>\n",
       "      <td>0</td>\n",
       "      <td>1</td>\n",
       "      <td>0</td>\n",
       "      <td>0</td>\n",
       "      <td>1</td>\n",
       "      <td>0</td>\n",
       "      <td>0</td>\n",
       "      <td>1</td>\n",
       "      <td>0</td>\n",
       "      <td>0</td>\n",
       "      <td>1</td>\n",
       "      <td>3304</td>\n",
       "    </tr>\n",
       "    <tr>\n",
       "      <th>51487</th>\n",
       "      <td>0</td>\n",
       "      <td>0</td>\n",
       "      <td>1</td>\n",
       "      <td>0</td>\n",
       "      <td>0</td>\n",
       "      <td>1</td>\n",
       "      <td>0</td>\n",
       "      <td>0</td>\n",
       "      <td>1</td>\n",
       "      <td>0</td>\n",
       "      <td>1</td>\n",
       "      <td>0</td>\n",
       "      <td>1</td>\n",
       "      <td>0</td>\n",
       "      <td>0</td>\n",
       "      <td>0</td>\n",
       "      <td>1</td>\n",
       "      <td>0</td>\n",
       "      <td>2156</td>\n",
       "    </tr>\n",
       "    <tr>\n",
       "      <th>51488</th>\n",
       "      <td>0</td>\n",
       "      <td>0</td>\n",
       "      <td>1</td>\n",
       "      <td>0</td>\n",
       "      <td>0</td>\n",
       "      <td>1</td>\n",
       "      <td>0</td>\n",
       "      <td>0</td>\n",
       "      <td>1</td>\n",
       "      <td>0</td>\n",
       "      <td>1</td>\n",
       "      <td>0</td>\n",
       "      <td>0</td>\n",
       "      <td>0</td>\n",
       "      <td>1</td>\n",
       "      <td>0</td>\n",
       "      <td>1</td>\n",
       "      <td>0</td>\n",
       "      <td>1475</td>\n",
       "    </tr>\n",
       "    <tr>\n",
       "      <th>51489</th>\n",
       "      <td>1</td>\n",
       "      <td>0</td>\n",
       "      <td>0</td>\n",
       "      <td>1</td>\n",
       "      <td>0</td>\n",
       "      <td>0</td>\n",
       "      <td>1</td>\n",
       "      <td>0</td>\n",
       "      <td>0</td>\n",
       "      <td>1</td>\n",
       "      <td>0</td>\n",
       "      <td>0</td>\n",
       "      <td>0</td>\n",
       "      <td>0</td>\n",
       "      <td>1</td>\n",
       "      <td>0</td>\n",
       "      <td>1</td>\n",
       "      <td>0</td>\n",
       "      <td>1445</td>\n",
       "    </tr>\n",
       "  </tbody>\n",
       "</table>\n",
       "</div>"
      ],
      "text/plain": [
       "       firstBlood_blue  firstBlood_neither  firstBlood_red  firstTower_blue  \\\n",
       "51485                1                   0               0                0   \n",
       "51486                1                   0               0                1   \n",
       "51487                0                   0               1                0   \n",
       "51488                0                   0               1                0   \n",
       "51489                1                   0               0                1   \n",
       "\n",
       "       firstTower_neither  firstTower_red  firstInhibitor_blue  \\\n",
       "51485                   0               1                    0   \n",
       "51486                   0               0                    0   \n",
       "51487                   0               1                    0   \n",
       "51488                   0               1                    0   \n",
       "51489                   0               0                    1   \n",
       "\n",
       "       firstInhibitor_neither  firstInhibitor_red  firstBaron_blue  \\\n",
       "51485                       0                   1                0   \n",
       "51486                       0                   1                0   \n",
       "51487                       0                   1                0   \n",
       "51488                       0                   1                0   \n",
       "51489                       0                   0                1   \n",
       "\n",
       "       firstBaron_neither  firstBaron_red  firstDragon_blue  \\\n",
       "51485                   1               0                 0   \n",
       "51486                   0               1                 0   \n",
       "51487                   1               0                 1   \n",
       "51488                   1               0                 0   \n",
       "51489                   0               0                 0   \n",
       "\n",
       "       firstDragon_neither  firstDragon_red  firstRiftHerald_blue  \\\n",
       "51485                    0                1                     0   \n",
       "51486                    0                1                     0   \n",
       "51487                    0                0                     0   \n",
       "51488                    0                1                     0   \n",
       "51489                    0                1                     0   \n",
       "\n",
       "       firstRiftHerald_neither  firstRiftHerald_red  gameDuration  \n",
       "51485                        1                    0          1944  \n",
       "51486                        0                    1          3304  \n",
       "51487                        1                    0          2156  \n",
       "51488                        1                    0          1475  \n",
       "51489                        1                    0          1445  "
      ]
     },
     "execution_count": 24,
     "metadata": {},
     "output_type": "execute_result"
    }
   ],
   "source": [
    "data_final.tail()"
   ]
  },
  {
   "cell_type": "code",
   "execution_count": 25,
   "metadata": {},
   "outputs": [],
   "source": [
    "X_train, X_test, y_train, y_test = train_test_split(data_final, y, test_size=0.30, random_state=100)"
   ]
  },
  {
   "cell_type": "code",
   "execution_count": 26,
   "metadata": {},
   "outputs": [],
   "source": [
    "X_train, X_test, y_train, y_test = train_test_split(data_final, y, test_size=0.30, random_state=100)\n",
    "Xc_train, Xc_test, yc_train, yc_test = train_test_split(data_final, yc, test_size=0.30, random_state=100)"
   ]
  },
  {
   "cell_type": "code",
   "execution_count": null,
   "metadata": {},
   "outputs": [],
   "source": []
  },
  {
   "cell_type": "markdown",
   "metadata": {},
   "source": [
    "### Adaboost Regression"
   ]
  },
  {
   "cell_type": "code",
   "execution_count": 27,
   "metadata": {},
   "outputs": [],
   "source": [
    "# https://scikit-learn.org/stable/modules/generated/sklearn.ensemble.AdaBoostClassifier.html\n",
    "from sklearn.ensemble import AdaBoostClassifier\n",
    "\n",
    "# https://scikit-learn.org/stable/modules/generated/sklearn.ensemble.AdaBoostRegressor.html\n",
    "from sklearn.ensemble import AdaBoostRegressor"
   ]
  },
  {
   "cell_type": "code",
   "execution_count": 28,
   "metadata": {},
   "outputs": [],
   "source": [
    "# Define model parameters\n",
    "adaboost_reg = AdaBoostRegressor(n_estimators=100, learning_rate=1, loss='linear')"
   ]
  },
  {
   "cell_type": "code",
   "execution_count": 29,
   "metadata": {},
   "outputs": [
    {
     "data": {
      "text/plain": [
       "AdaBoostRegressor(base_estimator=None, learning_rate=1, loss='linear',\n",
       "         n_estimators=100, random_state=None)"
      ]
     },
     "execution_count": 29,
     "metadata": {},
     "output_type": "execute_result"
    }
   ],
   "source": [
    "# Train model\n",
    "adaboost_reg.fit(X_train, y_train)"
   ]
  },
  {
   "cell_type": "code",
   "execution_count": 30,
   "metadata": {},
   "outputs": [
    {
     "name": "stdout",
     "output_type": "stream",
     "text": [
      "0.6574717437651962\n",
      "0.6581591440674794\n"
     ]
    }
   ],
   "source": [
    "# Find train and test predictions\n",
    "prediction_train = adaboost_reg.score(X_train,y_train)\n",
    "prediction_test = adaboost_reg.score(X_test,y_test)\n",
    "print(prediction_train)\n",
    "print(prediction_test)"
   ]
  },
  {
   "cell_type": "markdown",
   "metadata": {},
   "source": [
    "Como se puede ver en los resultados de la Adabtive Boosting Regression, el modelo fue 65% preciso en ambos casos. Aunque este no sea el mejor escenario, sigue siendo una puntuación decente, lo que me hizo pensar que otro método de boosting me daría una mejor respuesta a mi pregunta."
   ]
  },
  {
   "cell_type": "markdown",
   "metadata": {},
   "source": [
    "### XGBoost"
   ]
  },
  {
   "cell_type": "markdown",
   "metadata": {},
   "source": [
    "Es una biblioteca para desarrollar modelos de árboles rápidos y de alto rendimiento que mejoran el gradiente. El cómputo paralelo detrás de escena es lo que lo hace tan rápido. Ha sido muy popular en los últimos años debido a su versatilidad, escalabilidad y eficiencia. Como cualquier otro algoritmo ML, esto también tiene sus pros y sus contras. Pero, afortunadamente, los profesionales superan fácilmente a los contras, dado que tenemos una comprensión inteligente del algoritmo y una intuición para el ajuste adecuado de los parámetros.\n",
    "\n"
   ]
  },
  {
   "cell_type": "code",
   "execution_count": 31,
   "metadata": {},
   "outputs": [],
   "source": [
    "# https://xgboost.readthedocs.io/en/latest/python/python_intro.html\n",
    "import xgboost as xgb"
   ]
  },
  {
   "cell_type": "code",
   "execution_count": 32,
   "metadata": {},
   "outputs": [],
   "source": [
    "# Add data to XGBoost data matrices\n",
    "dtrain = xgb.DMatrix(X_train, label=y_train)\n",
    "dtest = xgb.DMatrix(X_test, label=y_test)"
   ]
  },
  {
   "cell_type": "code",
   "execution_count": 33,
   "metadata": {},
   "outputs": [],
   "source": [
    "param = {'booster': 'gbtree', 'max_depth': 5, 'eta': 0.8, 'gamma': .01} #Classification objective:binary:logistic, 'objective': 'reg:squarederror' by default "
   ]
  },
  {
   "cell_type": "code",
   "execution_count": 34,
   "metadata": {},
   "outputs": [],
   "source": [
    "# Train model\n",
    "num_round = 100\n",
    "bst = xgb.train(param, dtrain, num_round)"
   ]
  },
  {
   "cell_type": "code",
   "execution_count": 35,
   "metadata": {},
   "outputs": [],
   "source": [
    "# Get model predictions\n",
    "y_train_pred = bst.predict(dtrain)\n",
    "y_test_pred = bst.predict(dtest)"
   ]
  },
  {
   "cell_type": "code",
   "execution_count": 36,
   "metadata": {},
   "outputs": [
    {
     "name": "stdout",
     "output_type": "stream",
     "text": [
      "0.7950323092235333\n",
      "0.6789841154451641\n"
     ]
    }
   ],
   "source": [
    "# Find train and test r^2 values\n",
    "print(r2_score(y_train, y_train_pred))\n",
    "print(r2_score(y_test, y_test_pred))"
   ]
  },
  {
   "cell_type": "markdown",
   "metadata": {},
   "source": [
    "En el modelo XGBoost, la precisión fue mucho mejor, ya que alcanzó el 80% en el train y casi el 70% en el test. Hasta aquí todo bien, ¿no?. Almenos podemos ver que la mayoria de modelos de boosting tienen un baseline promedio de 66% de accuracy. Lo cual deberia de poder ser mejorado por otros modelos. "
   ]
  },
  {
   "cell_type": "markdown",
   "metadata": {},
   "source": [
    "## Random Forrests"
   ]
  },
  {
   "cell_type": "markdown",
   "metadata": {},
   "source": [
    "También decidí usar un algoritmo Random Forrest, ya que son altamente interpretables y deterministas, lo que sería una gran ventaja para este proyecto.\n",
    "\n",
    "Los Random Forrest empaquetados que se dividen en un subconjunto de características en cada división. Esto significa que en cada división del árbol, el modelo considera solo un pequeño subconjunto de características en lugar de todas las características del modelo. \n",
    "\n",
    "Una vez más, hay algunos inconvenientes que vienen con él.\n",
    "\n",
    "1) Asi como el modelo de AdaBoost, el Random Forrest puede tender a un overfit si los hiperparametros no estan bien calibrados\n",
    "\n",
    "2) En terminos de performance dependera mucho de cuantos splits se haga y cuanta data estoy manejando. \n",
    "\n"
   ]
  },
  {
   "cell_type": "code",
   "execution_count": 37,
   "metadata": {},
   "outputs": [],
   "source": [
    "from sklearn.ensemble import RandomForestRegressor"
   ]
  },
  {
   "cell_type": "code",
   "execution_count": 38,
   "metadata": {},
   "outputs": [],
   "source": [
    "clf = RandomForestRegressor(n_estimators=20, n_jobs=-1)"
   ]
  },
  {
   "cell_type": "code",
   "execution_count": 39,
   "metadata": {},
   "outputs": [
    {
     "data": {
      "text/plain": [
       "RandomForestRegressor(bootstrap=True, criterion='mse', max_depth=None,\n",
       "           max_features='auto', max_leaf_nodes=None,\n",
       "           min_impurity_decrease=0.0, min_impurity_split=None,\n",
       "           min_samples_leaf=1, min_samples_split=2,\n",
       "           min_weight_fraction_leaf=0.0, n_estimators=20, n_jobs=-1,\n",
       "           oob_score=False, random_state=None, verbose=0, warm_start=False)"
      ]
     },
     "execution_count": 39,
     "metadata": {},
     "output_type": "execute_result"
    }
   ],
   "source": [
    "clf.fit(X_train, y_train)"
   ]
  },
  {
   "cell_type": "code",
   "execution_count": 40,
   "metadata": {},
   "outputs": [
    {
     "data": {
      "text/plain": [
       "[DecisionTreeRegressor(criterion='mse', max_depth=None, max_features='auto',\n",
       "            max_leaf_nodes=None, min_impurity_decrease=0.0,\n",
       "            min_impurity_split=None, min_samples_leaf=1,\n",
       "            min_samples_split=2, min_weight_fraction_leaf=0.0,\n",
       "            presort=False, random_state=1946429260, splitter='best'),\n",
       " DecisionTreeRegressor(criterion='mse', max_depth=None, max_features='auto',\n",
       "            max_leaf_nodes=None, min_impurity_decrease=0.0,\n",
       "            min_impurity_split=None, min_samples_leaf=1,\n",
       "            min_samples_split=2, min_weight_fraction_leaf=0.0,\n",
       "            presort=False, random_state=128320846, splitter='best'),\n",
       " DecisionTreeRegressor(criterion='mse', max_depth=None, max_features='auto',\n",
       "            max_leaf_nodes=None, min_impurity_decrease=0.0,\n",
       "            min_impurity_split=None, min_samples_leaf=1,\n",
       "            min_samples_split=2, min_weight_fraction_leaf=0.0,\n",
       "            presort=False, random_state=589074694, splitter='best'),\n",
       " DecisionTreeRegressor(criterion='mse', max_depth=None, max_features='auto',\n",
       "            max_leaf_nodes=None, min_impurity_decrease=0.0,\n",
       "            min_impurity_split=None, min_samples_leaf=1,\n",
       "            min_samples_split=2, min_weight_fraction_leaf=0.0,\n",
       "            presort=False, random_state=1101332702, splitter='best'),\n",
       " DecisionTreeRegressor(criterion='mse', max_depth=None, max_features='auto',\n",
       "            max_leaf_nodes=None, min_impurity_decrease=0.0,\n",
       "            min_impurity_split=None, min_samples_leaf=1,\n",
       "            min_samples_split=2, min_weight_fraction_leaf=0.0,\n",
       "            presort=False, random_state=723399138, splitter='best')]"
      ]
     },
     "execution_count": 40,
     "metadata": {},
     "output_type": "execute_result"
    }
   ],
   "source": [
    "clf.estimators_[0:5]"
   ]
  },
  {
   "cell_type": "code",
   "execution_count": null,
   "metadata": {},
   "outputs": [],
   "source": []
  },
  {
   "cell_type": "code",
   "execution_count": 41,
   "metadata": {},
   "outputs": [],
   "source": [
    "from sklearn.tree import export_graphviz"
   ]
  },
  {
   "cell_type": "code",
   "execution_count": 42,
   "metadata": {},
   "outputs": [],
   "source": [
    "from sklearn.metrics import r2_score, mean_squared_error\n",
    "from math import sqrt"
   ]
  },
  {
   "cell_type": "code",
   "execution_count": 43,
   "metadata": {},
   "outputs": [
    {
     "data": {
      "text/plain": [
       "0.47218275690263234"
      ]
     },
     "execution_count": 43,
     "metadata": {},
     "output_type": "execute_result"
    }
   ],
   "source": [
    "tree_predictions = clf.estimators_[15].predict(X_test)\n",
    "r2_score(y_test, tree_predictions)"
   ]
  },
  {
   "cell_type": "markdown",
   "metadata": {},
   "source": [
    "En este caso, el accuracy estuvo muchisimo por debajo de el accuracy obtenido con modelos de boosting, lo cual empezaria a eliminar a el Random Tree de los mejores algoritmos para este caso especifico.  "
   ]
  },
  {
   "cell_type": "markdown",
   "metadata": {},
   "source": [
    "### OOB Score\n"
   ]
  },
  {
   "cell_type": "code",
   "execution_count": 44,
   "metadata": {},
   "outputs": [
    {
     "data": {
      "text/plain": [
       "(0.6433139025061281, 0.65938368609354)"
      ]
     },
     "execution_count": 44,
     "metadata": {},
     "output_type": "execute_result"
    }
   ],
   "source": [
    "clf = RandomForestRegressor(n_estimators=100, \n",
    "                            oob_score=True, \n",
    "                            n_jobs=-1)\n",
    "clf.fit(X_train, y_train)\n",
    "pred = clf.predict(X_test)\n",
    "clf.oob_score_, r2_score(y_test, pred)"
   ]
  },
  {
   "cell_type": "markdown",
   "metadata": {},
   "source": [
    "EL OOB error es la tasa de error del clasificador de fuera de bolsa en el conjunto de entrenamiento, por lo que tener un valor alto como 64 no es una buena señal para los randon forrest. Esto quiere decir que existe un alto porcentaje de error lo que deja a este random tree muy por atras de los demas algoritmos. "
   ]
  },
  {
   "cell_type": "markdown",
   "metadata": {},
   "source": [
    "## Arboles de Decision (Con Metodo GridSearch)\n",
    "El árbol de decisión construye modelos de clasificación o regresión en forma de estructura de árbol. Desglosa un conjunto de datos en subconjuntos cada vez más pequeños, mientras que al mismo tiempo se desarrolla incrementalmente un árbol de decisión asociado. El resultado final es un árbol con nodos de decisión y nodos de hoja. Un nodo de decisión tiene dos o más ramas. El nodo de la hoja representa una clasificación o decisión. El nodo de decisión superior en un árbol que corresponde al mejor predictor llamado nodo raíz. Los árboles de decisión pueden manejar tanto datos categóricos como numéricos. \n",
    "\n",
    "Tomando en cuenta el tipo de problema con el que nos enfrentamos, es muy probable que este algoritmo sea el mejor ya que hara otro tipo de separaciones que la que se hiceron en Random Forrest.\n",
    "\n",
    "**Ventajas**\n",
    "- Fácil de entender e interpretar, perfecto para la representación visual. Este es un ejemplo de un modelo de caja blanca, que imita el proceso de toma de decisiones humano. \n",
    "- Puede trabajar con características numéricas y categóricas. \n",
    "- Requiere poco procesamiento previo de los datos: no se necesita codificación de un solo uso, variables ficticias, etc.\n",
    "- La selección de funciones se realiza automáticamente: las funciones no importantes no influirán en el resultado. \n",
    "- La presencia de características que dependen unas de otras (multicolinealidad) tampoco afecta la calidad.\n",
    "\n",
    "**Desventajas**\n",
    "- Tiende a overfit\n",
    "- Los parametros tienen que ser casi perfectos\n"
   ]
  },
  {
   "cell_type": "code",
   "execution_count": 45,
   "metadata": {},
   "outputs": [],
   "source": [
    "from sklearn.tree import DecisionTreeClassifier\n",
    "from sklearn.model_selection import GridSearchCV\n",
    "criterion=[\"gini\",\"entropy\"]\n",
    "max_depth=range(1,20,2)\n",
    "splitter=[\"best\",\"random\"]\n",
    "dt=DecisionTreeClassifier()\n",
    "grid_decision_tree=GridSearchCV(estimator=dt,cv=15,param_grid=dict(criterion=criterion,max_depth=max_depth,splitter=splitter))"
   ]
  },
  {
   "cell_type": "code",
   "execution_count": 46,
   "metadata": {},
   "outputs": [
    {
     "name": "stdout",
     "output_type": "stream",
     "text": [
      "Score: 0.8949957920631838\n"
     ]
    }
   ],
   "source": [
    "dt2=DecisionTreeClassifier(criterion=\"entropy\",max_depth=7, splitter=\"best\")\n",
    "dt2.fit(X_train,y_train)\n",
    "print(\"Score:\", dt2.score(X_test,y_test))"
   ]
  },
  {
   "cell_type": "markdown",
   "metadata": {},
   "source": [
    "En este caso el accuracy es el mejor hasta el momento en 89%. Por el tipo de problema que estmamos enfrentando es razonable que este sea el mejor modelo. "
   ]
  },
  {
   "cell_type": "markdown",
   "metadata": {},
   "source": [
    "## Embedding Neural Network \n",
    "En ninguno de estos casos tomamos en cuenta la composicion del equipo. En su mayor parte porque queriamos concentrarnos en los objetivos primarios principales. Pero seria interesante poder ver como afecta este factor a el reultado final. \n",
    "\n",
    "Para esto, analisaremos el trabajo publicado por Naity, el que publico \"Predicting League of Legends Match Outcome with Embeddings and Deep Learning\" (Appendix 4)\n",
    "\n",
    "En este se usa un dataset diferente ya que este ya tiene los valores de campeones por nombres en lugar de ID. Ademas este consta de juegos profesionales asi que podriamos tener insights importantes del mismo. \n",
    "\n",
    "Para poder usar embedding en esta red neuronal existe tendremos que tratar todas las variables como si fueran categoricas. \n",
    "\n",
    "Podemos usar hot encoding para representar características categóricas. Sin embargo, la representación dispersa puede usar una gran cantidad de almacenamiento si una característica tiene muchos valores diferentes. Además, si el producto interno de cualquiera de los dos valores es cero, por lo que no podríamos capturar la relación entre ellos. \n",
    "\n",
    "Podemos utilizar embedding para aprender las relaciones entre los valores. Por ejemplo, podemos aprender una matriz de embedding de campeones donde cada fila representa un campeón y las columnas pueden indicar su defensa, salud, velocidad, etc. Entrenaremos una embedding matrix para cada una de las variables categóricas incluyendo liga, año, temporada, tipo, etiqueta de equipo, jugadores y campeones. \n",
    "\n",
    "Luego, añadiremos todas esas matrices para poder crear una red neural que pueda analizarlas. Es un procedimiento mas simple pero nos ayuda a tomar en cuenta tanto campeones como objetivos."
   ]
  },
  {
   "cell_type": "code",
   "execution_count": 47,
   "metadata": {},
   "outputs": [
    {
     "data": {
      "text/html": [
       "<image src=\"https://cdn-images-1.medium.com/freeze/max/1000/1*Z6sjGfJ1wR9LdqK4G-fJng.png?q=20\">\n"
      ],
      "text/plain": [
       "<IPython.core.display.HTML object>"
      ]
     },
     "metadata": {},
     "output_type": "display_data"
    }
   ],
   "source": [
    "%%html\n",
    "<image src=\"https://cdn-images-1.medium.com/freeze/max/1000/1*Z6sjGfJ1wR9LdqK4G-fJng.png?q=20\">"
   ]
  },
  {
   "cell_type": "markdown",
   "metadata": {},
   "source": [
    "Este modelo propuesto por Naity llego a tener un accuracy de 74%. Esto podria ser por la manera en la que la red neural esta diseñada, por la cantidad de datos del set diferente, o porque no estamos tomando otras variables existentes. De igual manera 74% no esta tan mal comparado con algunos de los otros modelos que tenemos. \n",
    "\n",
    "Las redes neuronales serian una buena opcion para este caso si logro encontrar el modelo ideal. Embedding no es la mejor opcion el 100% de los casos y talves este sea uno de esos. \n",
    "\n",
    "**Ventajas**\n",
    "\n",
    "- Las redes neuronales son flexibles y pueden usarse tanto para problemas de regresión como de clasificación. Cualquier dato que se pueda hacer numérico se puede usar en el modelo, ya que la red neuronal es un modelo matemático con funciones de aproximación.\n",
    "- Es confiable en un enfoque de tareas que involucra muchas características. Funciona al dividir el problema de clasificación en una red en capas de elementos más simples. \n",
    "- Una vez entrenados, las predicciones son bastante rápidas. Las redes neuronales se pueden entrenar con cualquier número de entradas y capas. Las redes neuronales funcionan mejor con más puntos de datos.\n",
    "\n",
    "**Desventajas**\n",
    "- Las redes neuronales son cajas negras, lo que significa que no podemos saber cuánto influye cada variable independiente en las variables dependientes. \n",
    "- Es computacionalmente muy costoso y requiere mucho tiempo entrenar con las CPU tradicionales. \n",
    "- Las redes neuronales dependen mucho de los datos de entrenamiento. Esto lleva al problema de sobreajuste y generalización. El modo se basa más en los datos de entrenamiento y puede ajustarse a los datos."
   ]
  },
  {
   "cell_type": "markdown",
   "metadata": {},
   "source": [
    "# **Feature Importance**"
   ]
  },
  {
   "cell_type": "markdown",
   "metadata": {},
   "source": [
    "En esta parte veremos a que valor de nuestro dataset se le agrega mas peso. este analysis fue el que se uso para determinar cual seria la variable principal a la hora de crear algunos de los modelos. "
   ]
  },
  {
   "cell_type": "code",
   "execution_count": 48,
   "metadata": {},
   "outputs": [
    {
     "data": {
      "text/plain": [
       "<matplotlib.axes._subplots.AxesSubplot at 0x137e6730898>"
      ]
     },
     "execution_count": 48,
     "metadata": {},
     "output_type": "execute_result"
    },
    {
     "data": {
      "image/png": "[encoded data removed]",
      "text/plain": [
       "<Figure size 432x288 with 1 Axes>"
      ]
     },
     "metadata": {
      "needs_background": "light"
     },
     "output_type": "display_data"
    }
   ],
   "source": [
    "feature_importances = pd.DataFrame(clf.feature_importances_,\n",
    "                                   index = X_train.columns,\n",
    "                                   columns=['importance']).sort_values('importance', ascending=False)\n",
    "\n",
    "feature_importances.iloc[0:25].plot.barh()"
   ]
  },
  {
   "cell_type": "markdown",
   "metadata": {},
   "source": [
    "Finalmente, podemos ver cuánto impactó cada valor en los modelos. Como es de esperar, los valores de los primeros inhibidores tanto para el equipo rojo como para el azul son los más importantes."
   ]
  },
  {
   "cell_type": "code",
   "execution_count": null,
   "metadata": {},
   "outputs": [],
   "source": []
  },
  {
   "cell_type": "markdown",
   "metadata": {},
   "source": [
    "# Results and Discussion "
   ]
  },
  {
   "cell_type": "markdown",
   "metadata": {},
   "source": [
    "Después de ejecutar los diferentes algoritmos y encontrar una puntuación decente en todos los modelos probados, podría decir que existe una relación alta entre el ganador del juego y los \"primeros\" objetivos. Con la mayoría de los modelos con una precisión del 65% al 89%, puedo decir que los primeros objetivos pueden decidir un juego, pero hay otras cosas que deben estar en el punto para que sea mejor que no haya contemplado en los modelos. \n",
    "\n",
    "Por ejemplo, la composición del equipo también es un aspecto muy importante, y de ninguna manera se analizó en mis modelos. Existe la posibilidad de que, al considerar variables como roles y meta campeones, hubiera podido obtener una mayor precisión en los modelos.\n",
    "\n",
    "Despues de correr todos los modelos con la misma data, llegue a la conclucion de que para este problema el mejor algoritmo eria Decision Tree con 89% de accuracy."
   ]
  },
  {
   "cell_type": "code",
   "execution_count": 49,
   "metadata": {},
   "outputs": [
    {
     "data": {
      "text/html": [
       "<div>\n",
       "<style scoped>\n",
       "    .dataframe tbody tr th:only-of-type {\n",
       "        vertical-align: middle;\n",
       "    }\n",
       "\n",
       "    .dataframe tbody tr th {\n",
       "        vertical-align: top;\n",
       "    }\n",
       "\n",
       "    .dataframe thead th {\n",
       "        text-align: right;\n",
       "    }\n",
       "</style>\n",
       "<table border=\"1\" class=\"dataframe\">\n",
       "  <thead>\n",
       "    <tr style=\"text-align: right;\">\n",
       "      <th></th>\n",
       "      <th>Ridge Regression</th>\n",
       "      <th>AdaBoost</th>\n",
       "      <th>XGBoost</th>\n",
       "      <th>Random Forrest</th>\n",
       "      <th>Decision Tree</th>\n",
       "      <th>Embedding Neural Network</th>\n",
       "    </tr>\n",
       "  </thead>\n",
       "  <tbody>\n",
       "    <tr>\n",
       "      <th>Accuracy</th>\n",
       "      <td>63.3%</td>\n",
       "      <td>64.3%</td>\n",
       "      <td>73.4%</td>\n",
       "      <td>43.3%</td>\n",
       "      <td>89.4%</td>\n",
       "      <td>74%</td>\n",
       "    </tr>\n",
       "  </tbody>\n",
       "</table>\n",
       "</div>"
      ],
      "text/plain": [
       "         Ridge Regression AdaBoost XGBoost Random Forrest Decision Tree  \\\n",
       "Accuracy            63.3%    64.3%   73.4%          43.3%         89.4%   \n",
       "\n",
       "         Embedding Neural Network  \n",
       "Accuracy                      74%  "
      ]
     },
     "execution_count": 49,
     "metadata": {},
     "output_type": "execute_result"
    }
   ],
   "source": [
    "data = np.array([['','Ridge Regression','AdaBoost',\"XGBoost\",\"Random Forrest\",\"Decision Tree\", \"Embedding Neural Network\"],\n",
    "                ['Accuracy',\"63.3%\",\"64.3%\",\"73.4%\",\"43.3%\",\"89.4%\",\"74%\"]])\n",
    "pd.DataFrame(data=data[1:,1:],\n",
    "                  index=data[1:,0],\n",
    "                  columns=data[0,1:])"
   ]
  },
  {
   "cell_type": "markdown",
   "metadata": {},
   "source": [
    "El 89% definitivamente podría mejorarse, pero sería interesante ver si realmente funcionó en La Grieta del Invocador. Es por razones obvias que el Decision Tree tiene el mejor performance de todos. Visto desde una perspectiva del jugador tambien se deberia de basar en una serie de decisiones para poder llegar a cumplir ese objetivo en el nivel temprano. \n",
    "\n",
    "Intenté la estrategia yo mismo (la evidencia se puede ver en el primer apéndice), y en general no fue tan mala. Tuve una tasa de ganancias del 60% o 70% en juegos clasificados y normales. La cuestión es que hay ciertos aspectos de los primeros objetivos que son alto riesgo, alta recompensa, y algunos de ellos no dieron resultado. Por ejemplo, elegir el primer dragón demasiado temprano en el juego en algunos casos mataría a mi personaje y, debido a eso, el equipo enemigo podría llevarse el dragón gratis. Además, el juego de la mitad a la tardía debía ser casi perfecto para que un equipo se mantuviera al día con los primeros objetivos. Si comienzas a jugar de forma tonta y dejas de jugar para cumplir con los siguientes objetivos, el juego se puede convertir fácilmente, lo que hace que tu equipo pierda el juego a la larga."
   ]
  },
  {
   "cell_type": "markdown",
   "metadata": {},
   "source": [
    "# Conclusions "
   ]
  },
  {
   "cell_type": "markdown",
   "metadata": {},
   "source": [
    "\n",
    "1) ¿Comenzar en ambos lados del mapa te da alguna ventaja?    \n",
    "- Si eres inteligente con eso, sí. Ciertos objetivos como los dragones y el Rift Herald aparecen en ambos lados del mapa pero en direcciones opuestas, por lo que si planeas tomar un dragón temprano y comenzar en el lado azul, tendrás un mejor control del mapa y, por lo tanto, tendrás una ventaja.    \n",
    "\n",
    "2) ¿Pueden los \"primeros\" objetivos decidir el resultado de un juego?      \n",
    "- Sí, pero debes aprovechar esa ventaja a lo largo del juego.      \n",
    "\n",
    "3) ¿Realmente hace una diferencia?          \n",
    "- Sí lo hace, lo he probado yo mismo.    (Appendix 1)\n",
    "\n",
    "4) ¿Pueden los jugadores profesionales planear estrategias para esto?    \n",
    "- Sí podrían, pero estos equipos tienen una amplia variedad de estrategias con respecto a las tácticas tempranas del juego.\n"
   ]
  },
  {
   "cell_type": "markdown",
   "metadata": {},
   "source": [
    "# Appendix "
   ]
  },
  {
   "cell_type": "markdown",
   "metadata": {},
   "source": [
    "## 1) My OP.GG profile (https://lan.op.gg/summoner/userName=Shadeslayer4322)\n",
    "Esto es realmente importante, ya que decidí que solo con los números no era suficiente y decidí probar esta estrategia por mi cuenta. Como puede ver, la tasa de ganancias no es tan mala, pero podría ser mejor. Como se puede ver en los juegos, la mayoría de los objetivos fueron alcanzados por mi equipo, lo que en la mayoría de los casos nos dio el liderazgo. Nuevamente, las composiciones del equipo tienen mucho que decir al respecto, y si alguna vez has jugado League of Legends, podrías ver eso en los registros del juego.\n",
    "\n",
    "## 2) An Official Board prediction based on early game strategies (https://boards.na.leagueoflegends.com/en/c/gameplay-plus/nO0XWjlm-prediction-predator-might-become-the-next-big-thing-used-in-season-9-and-this-is-problematic)\n",
    "\n",
    "Aquí puede ver cómo las personas persiven el juego temprano y cómo están mentalmente inclinadas a dominar el juego temprano.\n",
    "## 3) League of Legends Strategy: Why & How to Start Strong: - Mobalytics (https://mobalytics.gg/blog/start-strong-league-legends/)\n",
    "\n",
    "Estas son algunas de las primeras estrategias de juego que usan los profesionales, y en algunas de ellas puedes ver un paralelo con la proposición que hago, como ir por los primeros objetivos y mantener el liderazgo. \n",
    "\n",
    "## 4) Predicting League of Legends Match Outcome with Embeddings and Deep Learning (https://mc.ai/predicting-league-of-legends-match-outcome-with-embeddings-and-deep-learning/)"
   ]
  }
 ],
 "metadata": {
  "kernelspec": {
   "display_name": "Python 3",
   "language": "python",
   "name": "python3"
  },
  "language_info": {
   "codemirror_mode": {
    "name": "ipython",
    "version": 3
   },
   "file_extension": ".py",
   "mimetype": "text/x-python",
   "name": "python",
   "nbconvert_exporter": "python",
   "pygments_lexer": "ipython3",
   "version": "3.7.1"
  }
 },
 "nbformat": 4,
 "nbformat_minor": 2
}
